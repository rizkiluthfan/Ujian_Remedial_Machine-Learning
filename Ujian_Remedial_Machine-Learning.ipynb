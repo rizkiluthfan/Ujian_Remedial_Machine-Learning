{
 "cells": [
  {
   "cell_type": "code",
   "execution_count": 1,
   "metadata": {},
   "outputs": [],
   "source": [
    "import pandas as pd\n",
    "import numpy as np\n",
    "import matplotlib.pyplot as plt\n",
    "import seaborn as sns\n",
    "\n",
    "from sklearn.model_selection import train_test_split\n",
    "from sklearn.model_selection import KFold   #For K-fold cross validation\n",
    "from sklearn.ensemble import RandomForestClassifier\n",
    "from sklearn import metrics\n",
    "\n",
    "from sklearn.preprocessing import LabelEncoder\n",
    "\n",
    "from sklearn.feature_selection import SelectKBest\n",
    "from sklearn.feature_selection import chi2\n",
    "from sklearn.ensemble import ExtraTreesClassifier\n",
    "\n",
    "\n",
    "from sklearn.tree import DecisionTreeRegressor\n",
    "from sklearn.ensemble import RandomForestRegressor\n",
    "\n",
    "from sklearn.pipeline import make_pipeline\n",
    "from sklearn.linear_model import LinearRegression, Ridge, Lasso, ElasticNet\n",
    "from sklearn.preprocessing import PolynomialFeatures, RobustScaler\n",
    "from sklearn.svm import SVR\n",
    "\n",
    "from sklearn.model_selection import RandomizedSearchCV\n",
    "from sklearn.model_selection import GridSearchCV\n",
    "\n",
    "import warnings\n",
    "warnings.filterwarnings(\"ignore\")\n",
    "\n",
    "%matplotlib inline"
   ]
  },
  {
   "cell_type": "markdown",
   "metadata": {},
   "source": [
    "## Memuat dataset"
   ]
  },
  {
   "cell_type": "code",
   "execution_count": 2,
   "metadata": {},
   "outputs": [],
   "source": [
    "rumah = pd.read_csv('melb_data.csv')"
   ]
  },
  {
   "cell_type": "code",
   "execution_count": 3,
   "metadata": {},
   "outputs": [],
   "source": [
    "rumah = rumah.iloc[0:5000]"
   ]
  },
  {
   "cell_type": "markdown",
   "metadata": {},
   "source": [
    "<blockquote>Sesuai instruksi di ujian, kami menggunakan 5000 row untuk tugas ini</blockquote>"
   ]
  },
  {
   "cell_type": "code",
   "execution_count": 4,
   "metadata": {},
   "outputs": [
    {
     "data": {
      "text/plain": [
       "(5000, 21)"
      ]
     },
     "execution_count": 4,
     "metadata": {},
     "output_type": "execute_result"
    }
   ],
   "source": [
    "rumah.shape"
   ]
  },
  {
   "cell_type": "code",
   "execution_count": 5,
   "metadata": {
    "scrolled": true
   },
   "outputs": [
    {
     "data": {
      "text/html": [
       "<div>\n",
       "<style scoped>\n",
       "    .dataframe tbody tr th:only-of-type {\n",
       "        vertical-align: middle;\n",
       "    }\n",
       "\n",
       "    .dataframe tbody tr th {\n",
       "        vertical-align: top;\n",
       "    }\n",
       "\n",
       "    .dataframe thead th {\n",
       "        text-align: right;\n",
       "    }\n",
       "</style>\n",
       "<table border=\"1\" class=\"dataframe\">\n",
       "  <thead>\n",
       "    <tr style=\"text-align: right;\">\n",
       "      <th></th>\n",
       "      <th>Suburb</th>\n",
       "      <th>Address</th>\n",
       "      <th>Rooms</th>\n",
       "      <th>Type</th>\n",
       "      <th>Price</th>\n",
       "      <th>Method</th>\n",
       "      <th>SellerG</th>\n",
       "      <th>Date</th>\n",
       "      <th>Distance</th>\n",
       "      <th>Postcode</th>\n",
       "      <th>...</th>\n",
       "      <th>Bathroom</th>\n",
       "      <th>Car</th>\n",
       "      <th>Landsize</th>\n",
       "      <th>BuildingArea</th>\n",
       "      <th>YearBuilt</th>\n",
       "      <th>CouncilArea</th>\n",
       "      <th>Lattitude</th>\n",
       "      <th>Longtitude</th>\n",
       "      <th>Regionname</th>\n",
       "      <th>Propertycount</th>\n",
       "    </tr>\n",
       "  </thead>\n",
       "  <tbody>\n",
       "    <tr>\n",
       "      <th>0</th>\n",
       "      <td>Abbotsford</td>\n",
       "      <td>85 Turner St</td>\n",
       "      <td>2</td>\n",
       "      <td>h</td>\n",
       "      <td>1480000.0</td>\n",
       "      <td>S</td>\n",
       "      <td>Biggin</td>\n",
       "      <td>3/12/2016</td>\n",
       "      <td>2.5</td>\n",
       "      <td>3067.0</td>\n",
       "      <td>...</td>\n",
       "      <td>1.0</td>\n",
       "      <td>1.0</td>\n",
       "      <td>202.0</td>\n",
       "      <td>NaN</td>\n",
       "      <td>NaN</td>\n",
       "      <td>Yarra</td>\n",
       "      <td>-37.7996</td>\n",
       "      <td>144.9984</td>\n",
       "      <td>Northern Metropolitan</td>\n",
       "      <td>4019.0</td>\n",
       "    </tr>\n",
       "    <tr>\n",
       "      <th>1</th>\n",
       "      <td>Abbotsford</td>\n",
       "      <td>25 Bloomburg St</td>\n",
       "      <td>2</td>\n",
       "      <td>h</td>\n",
       "      <td>1035000.0</td>\n",
       "      <td>S</td>\n",
       "      <td>Biggin</td>\n",
       "      <td>4/02/2016</td>\n",
       "      <td>2.5</td>\n",
       "      <td>3067.0</td>\n",
       "      <td>...</td>\n",
       "      <td>1.0</td>\n",
       "      <td>0.0</td>\n",
       "      <td>156.0</td>\n",
       "      <td>79.0</td>\n",
       "      <td>1900.0</td>\n",
       "      <td>Yarra</td>\n",
       "      <td>-37.8079</td>\n",
       "      <td>144.9934</td>\n",
       "      <td>Northern Metropolitan</td>\n",
       "      <td>4019.0</td>\n",
       "    </tr>\n",
       "    <tr>\n",
       "      <th>2</th>\n",
       "      <td>Abbotsford</td>\n",
       "      <td>5 Charles St</td>\n",
       "      <td>3</td>\n",
       "      <td>h</td>\n",
       "      <td>1465000.0</td>\n",
       "      <td>SP</td>\n",
       "      <td>Biggin</td>\n",
       "      <td>4/03/2017</td>\n",
       "      <td>2.5</td>\n",
       "      <td>3067.0</td>\n",
       "      <td>...</td>\n",
       "      <td>2.0</td>\n",
       "      <td>0.0</td>\n",
       "      <td>134.0</td>\n",
       "      <td>150.0</td>\n",
       "      <td>1900.0</td>\n",
       "      <td>Yarra</td>\n",
       "      <td>-37.8093</td>\n",
       "      <td>144.9944</td>\n",
       "      <td>Northern Metropolitan</td>\n",
       "      <td>4019.0</td>\n",
       "    </tr>\n",
       "    <tr>\n",
       "      <th>3</th>\n",
       "      <td>Abbotsford</td>\n",
       "      <td>40 Federation La</td>\n",
       "      <td>3</td>\n",
       "      <td>h</td>\n",
       "      <td>850000.0</td>\n",
       "      <td>PI</td>\n",
       "      <td>Biggin</td>\n",
       "      <td>4/03/2017</td>\n",
       "      <td>2.5</td>\n",
       "      <td>3067.0</td>\n",
       "      <td>...</td>\n",
       "      <td>2.0</td>\n",
       "      <td>1.0</td>\n",
       "      <td>94.0</td>\n",
       "      <td>NaN</td>\n",
       "      <td>NaN</td>\n",
       "      <td>Yarra</td>\n",
       "      <td>-37.7969</td>\n",
       "      <td>144.9969</td>\n",
       "      <td>Northern Metropolitan</td>\n",
       "      <td>4019.0</td>\n",
       "    </tr>\n",
       "    <tr>\n",
       "      <th>4</th>\n",
       "      <td>Abbotsford</td>\n",
       "      <td>55a Park St</td>\n",
       "      <td>4</td>\n",
       "      <td>h</td>\n",
       "      <td>1600000.0</td>\n",
       "      <td>VB</td>\n",
       "      <td>Nelson</td>\n",
       "      <td>4/06/2016</td>\n",
       "      <td>2.5</td>\n",
       "      <td>3067.0</td>\n",
       "      <td>...</td>\n",
       "      <td>1.0</td>\n",
       "      <td>2.0</td>\n",
       "      <td>120.0</td>\n",
       "      <td>142.0</td>\n",
       "      <td>2014.0</td>\n",
       "      <td>Yarra</td>\n",
       "      <td>-37.8072</td>\n",
       "      <td>144.9941</td>\n",
       "      <td>Northern Metropolitan</td>\n",
       "      <td>4019.0</td>\n",
       "    </tr>\n",
       "  </tbody>\n",
       "</table>\n",
       "<p>5 rows × 21 columns</p>\n",
       "</div>"
      ],
      "text/plain": [
       "       Suburb           Address  Rooms Type      Price Method SellerG  \\\n",
       "0  Abbotsford      85 Turner St      2    h  1480000.0      S  Biggin   \n",
       "1  Abbotsford   25 Bloomburg St      2    h  1035000.0      S  Biggin   \n",
       "2  Abbotsford      5 Charles St      3    h  1465000.0     SP  Biggin   \n",
       "3  Abbotsford  40 Federation La      3    h   850000.0     PI  Biggin   \n",
       "4  Abbotsford       55a Park St      4    h  1600000.0     VB  Nelson   \n",
       "\n",
       "        Date  Distance  Postcode  ...  Bathroom  Car  Landsize  BuildingArea  \\\n",
       "0  3/12/2016       2.5    3067.0  ...       1.0  1.0     202.0           NaN   \n",
       "1  4/02/2016       2.5    3067.0  ...       1.0  0.0     156.0          79.0   \n",
       "2  4/03/2017       2.5    3067.0  ...       2.0  0.0     134.0         150.0   \n",
       "3  4/03/2017       2.5    3067.0  ...       2.0  1.0      94.0           NaN   \n",
       "4  4/06/2016       2.5    3067.0  ...       1.0  2.0     120.0         142.0   \n",
       "\n",
       "   YearBuilt  CouncilArea Lattitude  Longtitude             Regionname  \\\n",
       "0        NaN        Yarra  -37.7996    144.9984  Northern Metropolitan   \n",
       "1     1900.0        Yarra  -37.8079    144.9934  Northern Metropolitan   \n",
       "2     1900.0        Yarra  -37.8093    144.9944  Northern Metropolitan   \n",
       "3        NaN        Yarra  -37.7969    144.9969  Northern Metropolitan   \n",
       "4     2014.0        Yarra  -37.8072    144.9941  Northern Metropolitan   \n",
       "\n",
       "  Propertycount  \n",
       "0        4019.0  \n",
       "1        4019.0  \n",
       "2        4019.0  \n",
       "3        4019.0  \n",
       "4        4019.0  \n",
       "\n",
       "[5 rows x 21 columns]"
      ]
     },
     "execution_count": 5,
     "metadata": {},
     "output_type": "execute_result"
    }
   ],
   "source": [
    "rumah.head()"
   ]
  },
  {
   "cell_type": "code",
   "execution_count": 6,
   "metadata": {},
   "outputs": [
    {
     "name": "stdout",
     "output_type": "stream",
     "text": [
      "<class 'pandas.core.frame.DataFrame'>\n",
      "RangeIndex: 5000 entries, 0 to 4999\n",
      "Data columns (total 21 columns):\n",
      " #   Column         Non-Null Count  Dtype  \n",
      "---  ------         --------------  -----  \n",
      " 0   Suburb         5000 non-null   object \n",
      " 1   Address        5000 non-null   object \n",
      " 2   Rooms          5000 non-null   int64  \n",
      " 3   Type           5000 non-null   object \n",
      " 4   Price          5000 non-null   float64\n",
      " 5   Method         5000 non-null   object \n",
      " 6   SellerG        5000 non-null   object \n",
      " 7   Date           5000 non-null   object \n",
      " 8   Distance       5000 non-null   float64\n",
      " 9   Postcode       5000 non-null   float64\n",
      " 10  Bedroom2       5000 non-null   float64\n",
      " 11  Bathroom       5000 non-null   float64\n",
      " 12  Car            5000 non-null   float64\n",
      " 13  Landsize       5000 non-null   float64\n",
      " 14  BuildingArea   2838 non-null   float64\n",
      " 15  YearBuilt      3224 non-null   float64\n",
      " 16  CouncilArea    5000 non-null   object \n",
      " 17  Lattitude      5000 non-null   float64\n",
      " 18  Longtitude     5000 non-null   float64\n",
      " 19  Regionname     5000 non-null   object \n",
      " 20  Propertycount  5000 non-null   float64\n",
      "dtypes: float64(12), int64(1), object(8)\n",
      "memory usage: 820.4+ KB\n"
     ]
    }
   ],
   "source": [
    "rumah.info()"
   ]
  },
  {
   "cell_type": "code",
   "execution_count": 7,
   "metadata": {},
   "outputs": [
    {
     "data": {
      "text/html": [
       "<div>\n",
       "<style scoped>\n",
       "    .dataframe tbody tr th:only-of-type {\n",
       "        vertical-align: middle;\n",
       "    }\n",
       "\n",
       "    .dataframe tbody tr th {\n",
       "        vertical-align: top;\n",
       "    }\n",
       "\n",
       "    .dataframe thead th {\n",
       "        text-align: right;\n",
       "    }\n",
       "</style>\n",
       "<table border=\"1\" class=\"dataframe\">\n",
       "  <thead>\n",
       "    <tr style=\"text-align: right;\">\n",
       "      <th></th>\n",
       "      <th>count</th>\n",
       "      <th>mean</th>\n",
       "      <th>std</th>\n",
       "      <th>min</th>\n",
       "      <th>25%</th>\n",
       "      <th>50%</th>\n",
       "      <th>75%</th>\n",
       "      <th>max</th>\n",
       "    </tr>\n",
       "  </thead>\n",
       "  <tbody>\n",
       "    <tr>\n",
       "      <th>Rooms</th>\n",
       "      <td>5000.0</td>\n",
       "      <td>2.888800e+00</td>\n",
       "      <td>0.963649</td>\n",
       "      <td>1.0000</td>\n",
       "      <td>2.000000</td>\n",
       "      <td>3.0000</td>\n",
       "      <td>3.000000e+00</td>\n",
       "      <td>8.000000e+00</td>\n",
       "    </tr>\n",
       "    <tr>\n",
       "      <th>Price</th>\n",
       "      <td>5000.0</td>\n",
       "      <td>1.137445e+06</td>\n",
       "      <td>671591.277922</td>\n",
       "      <td>85000.0000</td>\n",
       "      <td>680000.000000</td>\n",
       "      <td>950000.0000</td>\n",
       "      <td>1.417062e+06</td>\n",
       "      <td>6.500000e+06</td>\n",
       "    </tr>\n",
       "    <tr>\n",
       "      <th>Distance</th>\n",
       "      <td>5000.0</td>\n",
       "      <td>8.698000e+00</td>\n",
       "      <td>3.396407</td>\n",
       "      <td>1.6000</td>\n",
       "      <td>5.900000</td>\n",
       "      <td>8.8000</td>\n",
       "      <td>1.120000e+01</td>\n",
       "      <td>1.500000e+01</td>\n",
       "    </tr>\n",
       "    <tr>\n",
       "      <th>Postcode</th>\n",
       "      <td>5000.0</td>\n",
       "      <td>3.099182e+03</td>\n",
       "      <td>60.119980</td>\n",
       "      <td>3000.0000</td>\n",
       "      <td>3046.000000</td>\n",
       "      <td>3081.0000</td>\n",
       "      <td>3.148000e+03</td>\n",
       "      <td>3.207000e+03</td>\n",
       "    </tr>\n",
       "    <tr>\n",
       "      <th>Bedroom2</th>\n",
       "      <td>5000.0</td>\n",
       "      <td>2.845400e+00</td>\n",
       "      <td>0.955239</td>\n",
       "      <td>0.0000</td>\n",
       "      <td>2.000000</td>\n",
       "      <td>3.0000</td>\n",
       "      <td>3.000000e+00</td>\n",
       "      <td>9.000000e+00</td>\n",
       "    </tr>\n",
       "    <tr>\n",
       "      <th>Bathroom</th>\n",
       "      <td>5000.0</td>\n",
       "      <td>1.535000e+00</td>\n",
       "      <td>0.716434</td>\n",
       "      <td>0.0000</td>\n",
       "      <td>1.000000</td>\n",
       "      <td>1.0000</td>\n",
       "      <td>2.000000e+00</td>\n",
       "      <td>8.000000e+00</td>\n",
       "    </tr>\n",
       "    <tr>\n",
       "      <th>Car</th>\n",
       "      <td>5000.0</td>\n",
       "      <td>1.556400e+00</td>\n",
       "      <td>0.920972</td>\n",
       "      <td>0.0000</td>\n",
       "      <td>1.000000</td>\n",
       "      <td>1.0000</td>\n",
       "      <td>2.000000e+00</td>\n",
       "      <td>8.000000e+00</td>\n",
       "    </tr>\n",
       "    <tr>\n",
       "      <th>Landsize</th>\n",
       "      <td>5000.0</td>\n",
       "      <td>4.567320e+02</td>\n",
       "      <td>1343.621956</td>\n",
       "      <td>0.0000</td>\n",
       "      <td>145.000000</td>\n",
       "      <td>347.5000</td>\n",
       "      <td>6.192500e+02</td>\n",
       "      <td>7.510000e+04</td>\n",
       "    </tr>\n",
       "    <tr>\n",
       "      <th>BuildingArea</th>\n",
       "      <td>2838.0</td>\n",
       "      <td>1.506240e+02</td>\n",
       "      <td>178.182062</td>\n",
       "      <td>0.0000</td>\n",
       "      <td>90.000000</td>\n",
       "      <td>125.0000</td>\n",
       "      <td>1.760000e+02</td>\n",
       "      <td>6.791000e+03</td>\n",
       "    </tr>\n",
       "    <tr>\n",
       "      <th>YearBuilt</th>\n",
       "      <td>3224.0</td>\n",
       "      <td>1.960598e+03</td>\n",
       "      <td>37.699725</td>\n",
       "      <td>1830.0000</td>\n",
       "      <td>1930.000000</td>\n",
       "      <td>1960.0000</td>\n",
       "      <td>1.997250e+03</td>\n",
       "      <td>2.018000e+03</td>\n",
       "    </tr>\n",
       "    <tr>\n",
       "      <th>Lattitude</th>\n",
       "      <td>5000.0</td>\n",
       "      <td>-3.781416e+01</td>\n",
       "      <td>0.063795</td>\n",
       "      <td>-37.9462</td>\n",
       "      <td>-37.860825</td>\n",
       "      <td>-37.7997</td>\n",
       "      <td>-3.776520e+01</td>\n",
       "      <td>-3.769490e+01</td>\n",
       "    </tr>\n",
       "    <tr>\n",
       "      <th>Longtitude</th>\n",
       "      <td>5000.0</td>\n",
       "      <td>1.449913e+02</td>\n",
       "      <td>0.072481</td>\n",
       "      <td>144.8075</td>\n",
       "      <td>144.934875</td>\n",
       "      <td>144.9977</td>\n",
       "      <td>1.450495e+02</td>\n",
       "      <td>1.451438e+02</td>\n",
       "    </tr>\n",
       "    <tr>\n",
       "      <th>Propertycount</th>\n",
       "      <td>5000.0</td>\n",
       "      <td>7.141065e+03</td>\n",
       "      <td>3218.122772</td>\n",
       "      <td>394.0000</td>\n",
       "      <td>4675.000000</td>\n",
       "      <td>6923.0000</td>\n",
       "      <td>9.264000e+03</td>\n",
       "      <td>1.749600e+04</td>\n",
       "    </tr>\n",
       "  </tbody>\n",
       "</table>\n",
       "</div>"
      ],
      "text/plain": [
       "                count          mean            std         min            25%  \\\n",
       "Rooms          5000.0  2.888800e+00       0.963649      1.0000       2.000000   \n",
       "Price          5000.0  1.137445e+06  671591.277922  85000.0000  680000.000000   \n",
       "Distance       5000.0  8.698000e+00       3.396407      1.6000       5.900000   \n",
       "Postcode       5000.0  3.099182e+03      60.119980   3000.0000    3046.000000   \n",
       "Bedroom2       5000.0  2.845400e+00       0.955239      0.0000       2.000000   \n",
       "Bathroom       5000.0  1.535000e+00       0.716434      0.0000       1.000000   \n",
       "Car            5000.0  1.556400e+00       0.920972      0.0000       1.000000   \n",
       "Landsize       5000.0  4.567320e+02    1343.621956      0.0000     145.000000   \n",
       "BuildingArea   2838.0  1.506240e+02     178.182062      0.0000      90.000000   \n",
       "YearBuilt      3224.0  1.960598e+03      37.699725   1830.0000    1930.000000   \n",
       "Lattitude      5000.0 -3.781416e+01       0.063795    -37.9462     -37.860825   \n",
       "Longtitude     5000.0  1.449913e+02       0.072481    144.8075     144.934875   \n",
       "Propertycount  5000.0  7.141065e+03    3218.122772    394.0000    4675.000000   \n",
       "\n",
       "                       50%           75%           max  \n",
       "Rooms               3.0000  3.000000e+00  8.000000e+00  \n",
       "Price          950000.0000  1.417062e+06  6.500000e+06  \n",
       "Distance            8.8000  1.120000e+01  1.500000e+01  \n",
       "Postcode         3081.0000  3.148000e+03  3.207000e+03  \n",
       "Bedroom2            3.0000  3.000000e+00  9.000000e+00  \n",
       "Bathroom            1.0000  2.000000e+00  8.000000e+00  \n",
       "Car                 1.0000  2.000000e+00  8.000000e+00  \n",
       "Landsize          347.5000  6.192500e+02  7.510000e+04  \n",
       "BuildingArea      125.0000  1.760000e+02  6.791000e+03  \n",
       "YearBuilt        1960.0000  1.997250e+03  2.018000e+03  \n",
       "Lattitude         -37.7997 -3.776520e+01 -3.769490e+01  \n",
       "Longtitude        144.9977  1.450495e+02  1.451438e+02  \n",
       "Propertycount    6923.0000  9.264000e+03  1.749600e+04  "
      ]
     },
     "execution_count": 7,
     "metadata": {},
     "output_type": "execute_result"
    }
   ],
   "source": [
    "rumah.describe().T"
   ]
  },
  {
   "cell_type": "markdown",
   "metadata": {},
   "source": [
    "<blockquote>Target Feature : <b>Price</b></blockquote>\n",
    "<blockquote> karna menurut kami harga sebagai nilai utama dari analisa ini</blockquote>\n"
   ]
  },
  {
   "cell_type": "markdown",
   "metadata": {},
   "source": [
    "\n",
    "#### Feature description\n",
    "   * Rooms: Number of rooms\n",
    "   * Price: Price in dollars\n",
    "   * Method: S - property sold;/n\n",
    "       SP - property sold prior;\n",
    "       PI - property passed in;\n",
    "       PN - sold prior not disclosed;\n",
    "       SN - sold not disclosed; NB - no bid;\n",
    "       VB - vendor bid;\n",
    "       W - withdrawn prior to auction;\n",
    "       SA - sold after auction;\n",
    "       SS - sold after auction price not disclosed. N/A - price or highest bid not available.\n",
    "   * Type: br - bedroom(s); h - house,cottage,villa, semi,terrace; u - unit, duplex; t - townhouse; dev site - development site; o res - other residential.\n",
    "   * SellerG: Real Estate Agent\n",
    "   * Date: Date sold\n",
    "   * Distance: Distance from CBD\n",
    "   * Regionname: General Region (West, North West, North, North east …etc)\n",
    "   * Propertycount: Number of properties that exist in the suburb.\n",
    "   * Bedroom2 : Scraped # of Bedrooms (from different source)\n",
    "   * Bathroom: Number of Bathrooms\n",
    "   * Car: Number of carspots\n",
    "   * Landsize: Land Size\n",
    "   * BuildingArea: Building Size\n",
    "   * CouncilArea: Governing council for the area\n",
    "\n",
    "\n"
   ]
  },
  {
   "cell_type": "markdown",
   "metadata": {},
   "source": [
    "## Preprocessing"
   ]
  },
  {
   "cell_type": "code",
   "execution_count": 8,
   "metadata": {},
   "outputs": [],
   "source": [
    "rumah['Date'] = pd.to_datetime(rumah['Date'])"
   ]
  },
  {
   "cell_type": "code",
   "execution_count": 9,
   "metadata": {},
   "outputs": [],
   "source": [
    "rumah['Hari_sold'] = rumah.apply(lambda x: x['Date'].dayofweek, axis=1)"
   ]
  },
  {
   "cell_type": "code",
   "execution_count": 10,
   "metadata": {},
   "outputs": [],
   "source": [
    "rumah['Bulan_sold'] = rumah.apply(lambda x: x['Date'].month, axis=1)"
   ]
  },
  {
   "cell_type": "code",
   "execution_count": 11,
   "metadata": {},
   "outputs": [],
   "source": [
    "rumah['Tahun_sold'] = rumah.apply(lambda x: x['Date'].year, axis=1)"
   ]
  },
  {
   "cell_type": "markdown",
   "metadata": {},
   "source": [
    "<blockquote>Untuk memproses date saya akan mengonversi kolom date mejadi hari, bulan dan tahun. Karna waktu adalah hal penting untuk menentukan harga sebuah rumah dan harga properti cenrung meningkat seriring waktu berjalan</blockquote>\n",
    "\n"
   ]
  },
  {
   "cell_type": "markdown",
   "metadata": {},
   "source": [
    "#### menentukan attribute dan target column name"
   ]
  },
  {
   "cell_type": "code",
   "execution_count": 12,
   "metadata": {},
   "outputs": [],
   "source": [
    "target_cols = 'Price'\n",
    "attribute_cols = ['Suburb',\n",
    "                  'Rooms',\n",
    "                  'Type',\n",
    "                  'Method',\n",
    "                  'SellerG',\n",
    "                  'Tahun_sold',\n",
    "                  'Bulan_sold',\n",
    "                  'Hari_sold',\n",
    "                  'Distance',\n",
    "                  'Postcode',\n",
    "                  'Bedroom2',\n",
    "                  'Bathroom',\n",
    "                  'Car',\n",
    "                  'Landsize',\n",
    "                  'BuildingArea',\n",
    "                  'YearBuilt',\n",
    "                  'CouncilArea',\n",
    "                  'Regionname',\n",
    "                  'Propertycount']\n",
    "\n",
    "X = rumah[attribute_cols]\n",
    "y = rumah[target_cols]"
   ]
  },
  {
   "cell_type": "markdown",
   "metadata": {},
   "source": [
    "### Cek Missing Data"
   ]
  },
  {
   "cell_type": "code",
   "execution_count": 13,
   "metadata": {},
   "outputs": [
    {
     "data": {
      "text/plain": [
       "Suburb              0\n",
       "Address             0\n",
       "Rooms               0\n",
       "Type                0\n",
       "Price               0\n",
       "Method              0\n",
       "SellerG             0\n",
       "Date                0\n",
       "Distance            0\n",
       "Postcode            0\n",
       "Bedroom2            0\n",
       "Bathroom            0\n",
       "Car                 0\n",
       "Landsize            0\n",
       "BuildingArea     2162\n",
       "YearBuilt        1776\n",
       "CouncilArea         0\n",
       "Lattitude           0\n",
       "Longtitude          0\n",
       "Regionname          0\n",
       "Propertycount       0\n",
       "Hari_sold           0\n",
       "Bulan_sold          0\n",
       "Tahun_sold          0\n",
       "dtype: int64"
      ]
     },
     "execution_count": 13,
     "metadata": {},
     "output_type": "execute_result"
    }
   ],
   "source": [
    "rumah.isna().sum()"
   ]
  },
  {
   "cell_type": "markdown",
   "metadata": {},
   "source": [
    "#### BuildingArea & YearBuilt"
   ]
  },
  {
   "cell_type": "markdown",
   "metadata": {},
   "source": [
    "BuildingArea akan memengaruhi harga rumah. hampir setengah dari dataset adalah jumlah area bangunan. \n"
   ]
  },
  {
   "cell_type": "code",
   "execution_count": 14,
   "metadata": {},
   "outputs": [
    {
     "data": {
      "text/plain": [
       "(5000, 24)"
      ]
     },
     "execution_count": 14,
     "metadata": {},
     "output_type": "execute_result"
    }
   ],
   "source": [
    "rumah.shape"
   ]
  },
  {
   "cell_type": "markdown",
   "metadata": {},
   "source": [
    "<blockquote>Sebelum dataset yang sudah di potong 5000 di drop</blockquote>"
   ]
  },
  {
   "cell_type": "code",
   "execution_count": 15,
   "metadata": {},
   "outputs": [],
   "source": [
    "rumah.dropna(inplace=True)"
   ]
  },
  {
   "cell_type": "code",
   "execution_count": 16,
   "metadata": {},
   "outputs": [
    {
     "data": {
      "text/plain": [
       "(2735, 24)"
      ]
     },
     "execution_count": 16,
     "metadata": {},
     "output_type": "execute_result"
    }
   ],
   "source": [
    "rumah.shape"
   ]
  },
  {
   "cell_type": "markdown",
   "metadata": {},
   "source": [
    "<blockquote>5000 - 2735 = 2265\n",
    "    \n",
    "    \n",
    "    jadi kita kehilangan 2265 row dari 5000 row\n",
    "</blockquote>"
   ]
  },
  {
   "cell_type": "code",
   "execution_count": 17,
   "metadata": {},
   "outputs": [],
   "source": [
    "rumah_penuh = pd.read_csv('melb_data.csv')"
   ]
  },
  {
   "cell_type": "code",
   "execution_count": 18,
   "metadata": {},
   "outputs": [],
   "source": [
    "rumah_tersisa = rumah_penuh.iloc[5000:]"
   ]
  },
  {
   "cell_type": "code",
   "execution_count": 19,
   "metadata": {},
   "outputs": [],
   "source": [
    "rumah_samplebaru = rumah_tersisa[(rumah_tersisa['BuildingArea'].notna())\n",
    "                             & (rumah_tersisa['YearBuilt'].notna()) \n",
    "                             & (rumah_tersisa['CouncilArea'].notna())].sample(2265)"
   ]
  },
  {
   "cell_type": "code",
   "execution_count": 20,
   "metadata": {},
   "outputs": [
    {
     "data": {
      "text/plain": [
       "Suburb           0\n",
       "Address          0\n",
       "Rooms            0\n",
       "Type             0\n",
       "Price            0\n",
       "Method           0\n",
       "SellerG          0\n",
       "Date             0\n",
       "Distance         0\n",
       "Postcode         0\n",
       "Bedroom2         0\n",
       "Bathroom         0\n",
       "Car              0\n",
       "Landsize         0\n",
       "BuildingArea     0\n",
       "YearBuilt        0\n",
       "CouncilArea      0\n",
       "Lattitude        0\n",
       "Longtitude       0\n",
       "Regionname       0\n",
       "Propertycount    0\n",
       "dtype: int64"
      ]
     },
     "execution_count": 20,
     "metadata": {},
     "output_type": "execute_result"
    }
   ],
   "source": [
    "rumah_samplebaru.isna().sum()"
   ]
  },
  {
   "cell_type": "markdown",
   "metadata": {},
   "source": [
    "<blockquote> Nicee, jadi terlihat lebih baik"
   ]
  },
  {
   "cell_type": "code",
   "execution_count": 21,
   "metadata": {},
   "outputs": [],
   "source": [
    "rumah = rumah.append(rumah_samplebaru)"
   ]
  },
  {
   "cell_type": "code",
   "execution_count": 22,
   "metadata": {},
   "outputs": [
    {
     "data": {
      "text/html": [
       "<div>\n",
       "<style scoped>\n",
       "    .dataframe tbody tr th:only-of-type {\n",
       "        vertical-align: middle;\n",
       "    }\n",
       "\n",
       "    .dataframe tbody tr th {\n",
       "        vertical-align: top;\n",
       "    }\n",
       "\n",
       "    .dataframe thead th {\n",
       "        text-align: right;\n",
       "    }\n",
       "</style>\n",
       "<table border=\"1\" class=\"dataframe\">\n",
       "  <thead>\n",
       "    <tr style=\"text-align: right;\">\n",
       "      <th></th>\n",
       "      <th>index</th>\n",
       "      <th>Suburb</th>\n",
       "      <th>Address</th>\n",
       "      <th>Rooms</th>\n",
       "      <th>Type</th>\n",
       "      <th>Price</th>\n",
       "      <th>Method</th>\n",
       "      <th>SellerG</th>\n",
       "      <th>Date</th>\n",
       "      <th>Distance</th>\n",
       "      <th>...</th>\n",
       "      <th>BuildingArea</th>\n",
       "      <th>YearBuilt</th>\n",
       "      <th>CouncilArea</th>\n",
       "      <th>Lattitude</th>\n",
       "      <th>Longtitude</th>\n",
       "      <th>Regionname</th>\n",
       "      <th>Propertycount</th>\n",
       "      <th>Hari_sold</th>\n",
       "      <th>Bulan_sold</th>\n",
       "      <th>Tahun_sold</th>\n",
       "    </tr>\n",
       "  </thead>\n",
       "  <tbody>\n",
       "    <tr>\n",
       "      <th>0</th>\n",
       "      <td>1</td>\n",
       "      <td>Abbotsford</td>\n",
       "      <td>25 Bloomburg St</td>\n",
       "      <td>2</td>\n",
       "      <td>h</td>\n",
       "      <td>1035000.0</td>\n",
       "      <td>S</td>\n",
       "      <td>Biggin</td>\n",
       "      <td>2016-04-02 00:00:00</td>\n",
       "      <td>2.5</td>\n",
       "      <td>...</td>\n",
       "      <td>79.00</td>\n",
       "      <td>1900.0</td>\n",
       "      <td>Yarra</td>\n",
       "      <td>-37.80790</td>\n",
       "      <td>144.99340</td>\n",
       "      <td>Northern Metropolitan</td>\n",
       "      <td>4019.0</td>\n",
       "      <td>5.0</td>\n",
       "      <td>4.0</td>\n",
       "      <td>2016.0</td>\n",
       "    </tr>\n",
       "    <tr>\n",
       "      <th>1</th>\n",
       "      <td>2</td>\n",
       "      <td>Abbotsford</td>\n",
       "      <td>5 Charles St</td>\n",
       "      <td>3</td>\n",
       "      <td>h</td>\n",
       "      <td>1465000.0</td>\n",
       "      <td>SP</td>\n",
       "      <td>Biggin</td>\n",
       "      <td>2017-04-03 00:00:00</td>\n",
       "      <td>2.5</td>\n",
       "      <td>...</td>\n",
       "      <td>150.00</td>\n",
       "      <td>1900.0</td>\n",
       "      <td>Yarra</td>\n",
       "      <td>-37.80930</td>\n",
       "      <td>144.99440</td>\n",
       "      <td>Northern Metropolitan</td>\n",
       "      <td>4019.0</td>\n",
       "      <td>0.0</td>\n",
       "      <td>4.0</td>\n",
       "      <td>2017.0</td>\n",
       "    </tr>\n",
       "    <tr>\n",
       "      <th>2</th>\n",
       "      <td>4</td>\n",
       "      <td>Abbotsford</td>\n",
       "      <td>55a Park St</td>\n",
       "      <td>4</td>\n",
       "      <td>h</td>\n",
       "      <td>1600000.0</td>\n",
       "      <td>VB</td>\n",
       "      <td>Nelson</td>\n",
       "      <td>2016-04-06 00:00:00</td>\n",
       "      <td>2.5</td>\n",
       "      <td>...</td>\n",
       "      <td>142.00</td>\n",
       "      <td>2014.0</td>\n",
       "      <td>Yarra</td>\n",
       "      <td>-37.80720</td>\n",
       "      <td>144.99410</td>\n",
       "      <td>Northern Metropolitan</td>\n",
       "      <td>4019.0</td>\n",
       "      <td>2.0</td>\n",
       "      <td>4.0</td>\n",
       "      <td>2016.0</td>\n",
       "    </tr>\n",
       "    <tr>\n",
       "      <th>3</th>\n",
       "      <td>6</td>\n",
       "      <td>Abbotsford</td>\n",
       "      <td>124 Yarra St</td>\n",
       "      <td>3</td>\n",
       "      <td>h</td>\n",
       "      <td>1876000.0</td>\n",
       "      <td>S</td>\n",
       "      <td>Nelson</td>\n",
       "      <td>2016-07-05 00:00:00</td>\n",
       "      <td>2.5</td>\n",
       "      <td>...</td>\n",
       "      <td>210.00</td>\n",
       "      <td>1910.0</td>\n",
       "      <td>Yarra</td>\n",
       "      <td>-37.80240</td>\n",
       "      <td>144.99930</td>\n",
       "      <td>Northern Metropolitan</td>\n",
       "      <td>4019.0</td>\n",
       "      <td>1.0</td>\n",
       "      <td>7.0</td>\n",
       "      <td>2016.0</td>\n",
       "    </tr>\n",
       "    <tr>\n",
       "      <th>4</th>\n",
       "      <td>7</td>\n",
       "      <td>Abbotsford</td>\n",
       "      <td>98 Charles St</td>\n",
       "      <td>2</td>\n",
       "      <td>h</td>\n",
       "      <td>1636000.0</td>\n",
       "      <td>S</td>\n",
       "      <td>Nelson</td>\n",
       "      <td>2016-08-10 00:00:00</td>\n",
       "      <td>2.5</td>\n",
       "      <td>...</td>\n",
       "      <td>107.00</td>\n",
       "      <td>1890.0</td>\n",
       "      <td>Yarra</td>\n",
       "      <td>-37.80600</td>\n",
       "      <td>144.99540</td>\n",
       "      <td>Northern Metropolitan</td>\n",
       "      <td>4019.0</td>\n",
       "      <td>2.0</td>\n",
       "      <td>8.0</td>\n",
       "      <td>2016.0</td>\n",
       "    </tr>\n",
       "    <tr>\n",
       "      <th>...</th>\n",
       "      <td>...</td>\n",
       "      <td>...</td>\n",
       "      <td>...</td>\n",
       "      <td>...</td>\n",
       "      <td>...</td>\n",
       "      <td>...</td>\n",
       "      <td>...</td>\n",
       "      <td>...</td>\n",
       "      <td>...</td>\n",
       "      <td>...</td>\n",
       "      <td>...</td>\n",
       "      <td>...</td>\n",
       "      <td>...</td>\n",
       "      <td>...</td>\n",
       "      <td>...</td>\n",
       "      <td>...</td>\n",
       "      <td>...</td>\n",
       "      <td>...</td>\n",
       "      <td>...</td>\n",
       "      <td>...</td>\n",
       "      <td>...</td>\n",
       "    </tr>\n",
       "    <tr>\n",
       "      <th>4995</th>\n",
       "      <td>8416</td>\n",
       "      <td>Sunshine</td>\n",
       "      <td>69 Duke St</td>\n",
       "      <td>3</td>\n",
       "      <td>h</td>\n",
       "      <td>710000.0</td>\n",
       "      <td>S</td>\n",
       "      <td>Village</td>\n",
       "      <td>29/04/2017</td>\n",
       "      <td>12.6</td>\n",
       "      <td>...</td>\n",
       "      <td>93.84</td>\n",
       "      <td>1950.0</td>\n",
       "      <td>Brimbank</td>\n",
       "      <td>-37.78750</td>\n",
       "      <td>144.84560</td>\n",
       "      <td>Western Metropolitan</td>\n",
       "      <td>3755.0</td>\n",
       "      <td>NaN</td>\n",
       "      <td>NaN</td>\n",
       "      <td>NaN</td>\n",
       "    </tr>\n",
       "    <tr>\n",
       "      <th>4996</th>\n",
       "      <td>8307</td>\n",
       "      <td>Reservoir</td>\n",
       "      <td>1/74 Miranda Rd</td>\n",
       "      <td>3</td>\n",
       "      <td>h</td>\n",
       "      <td>605000.0</td>\n",
       "      <td>S</td>\n",
       "      <td>Love</td>\n",
       "      <td>13/05/2017</td>\n",
       "      <td>11.2</td>\n",
       "      <td>...</td>\n",
       "      <td>112.00</td>\n",
       "      <td>1950.0</td>\n",
       "      <td>Darebin</td>\n",
       "      <td>-37.70680</td>\n",
       "      <td>145.01930</td>\n",
       "      <td>Northern Metropolitan</td>\n",
       "      <td>21650.0</td>\n",
       "      <td>NaN</td>\n",
       "      <td>NaN</td>\n",
       "      <td>NaN</td>\n",
       "    </tr>\n",
       "    <tr>\n",
       "      <th>4997</th>\n",
       "      <td>11861</td>\n",
       "      <td>Werribee</td>\n",
       "      <td>17 Xavier Ct</td>\n",
       "      <td>4</td>\n",
       "      <td>h</td>\n",
       "      <td>510000.0</td>\n",
       "      <td>SP</td>\n",
       "      <td>YPA</td>\n",
       "      <td>22/07/2017</td>\n",
       "      <td>14.7</td>\n",
       "      <td>...</td>\n",
       "      <td>147.00</td>\n",
       "      <td>2003.0</td>\n",
       "      <td>Wyndham</td>\n",
       "      <td>-37.89556</td>\n",
       "      <td>144.64268</td>\n",
       "      <td>Western Metropolitan</td>\n",
       "      <td>16166.0</td>\n",
       "      <td>NaN</td>\n",
       "      <td>NaN</td>\n",
       "      <td>NaN</td>\n",
       "    </tr>\n",
       "    <tr>\n",
       "      <th>4998</th>\n",
       "      <td>7373</td>\n",
       "      <td>Cremorne</td>\n",
       "      <td>175 Dover St</td>\n",
       "      <td>2</td>\n",
       "      <td>t</td>\n",
       "      <td>1010000.0</td>\n",
       "      <td>S</td>\n",
       "      <td>hockingstuart</td>\n",
       "      <td>24/09/2016</td>\n",
       "      <td>2.5</td>\n",
       "      <td>...</td>\n",
       "      <td>151.00</td>\n",
       "      <td>1998.0</td>\n",
       "      <td>Yarra</td>\n",
       "      <td>-37.83110</td>\n",
       "      <td>144.99140</td>\n",
       "      <td>Northern Metropolitan</td>\n",
       "      <td>1123.0</td>\n",
       "      <td>NaN</td>\n",
       "      <td>NaN</td>\n",
       "      <td>NaN</td>\n",
       "    </tr>\n",
       "    <tr>\n",
       "      <th>4999</th>\n",
       "      <td>8834</td>\n",
       "      <td>Hawthorn</td>\n",
       "      <td>14/59 Riversdale Rd</td>\n",
       "      <td>2</td>\n",
       "      <td>u</td>\n",
       "      <td>450000.0</td>\n",
       "      <td>PI</td>\n",
       "      <td>Jellis</td>\n",
       "      <td>1/07/2017</td>\n",
       "      <td>5.3</td>\n",
       "      <td>...</td>\n",
       "      <td>71.00</td>\n",
       "      <td>1965.0</td>\n",
       "      <td>Boroondara</td>\n",
       "      <td>-37.82824</td>\n",
       "      <td>145.03137</td>\n",
       "      <td>Southern Metropolitan</td>\n",
       "      <td>11308.0</td>\n",
       "      <td>NaN</td>\n",
       "      <td>NaN</td>\n",
       "      <td>NaN</td>\n",
       "    </tr>\n",
       "  </tbody>\n",
       "</table>\n",
       "<p>5000 rows × 25 columns</p>\n",
       "</div>"
      ],
      "text/plain": [
       "      index      Suburb              Address  Rooms Type      Price Method  \\\n",
       "0         1  Abbotsford      25 Bloomburg St      2    h  1035000.0      S   \n",
       "1         2  Abbotsford         5 Charles St      3    h  1465000.0     SP   \n",
       "2         4  Abbotsford          55a Park St      4    h  1600000.0     VB   \n",
       "3         6  Abbotsford         124 Yarra St      3    h  1876000.0      S   \n",
       "4         7  Abbotsford        98 Charles St      2    h  1636000.0      S   \n",
       "...     ...         ...                  ...    ...  ...        ...    ...   \n",
       "4995   8416    Sunshine           69 Duke St      3    h   710000.0      S   \n",
       "4996   8307   Reservoir      1/74 Miranda Rd      3    h   605000.0      S   \n",
       "4997  11861    Werribee         17 Xavier Ct      4    h   510000.0     SP   \n",
       "4998   7373    Cremorne         175 Dover St      2    t  1010000.0      S   \n",
       "4999   8834    Hawthorn  14/59 Riversdale Rd      2    u   450000.0     PI   \n",
       "\n",
       "            SellerG                 Date  Distance  ...  BuildingArea  \\\n",
       "0            Biggin  2016-04-02 00:00:00       2.5  ...         79.00   \n",
       "1            Biggin  2017-04-03 00:00:00       2.5  ...        150.00   \n",
       "2            Nelson  2016-04-06 00:00:00       2.5  ...        142.00   \n",
       "3            Nelson  2016-07-05 00:00:00       2.5  ...        210.00   \n",
       "4            Nelson  2016-08-10 00:00:00       2.5  ...        107.00   \n",
       "...             ...                  ...       ...  ...           ...   \n",
       "4995        Village           29/04/2017      12.6  ...         93.84   \n",
       "4996           Love           13/05/2017      11.2  ...        112.00   \n",
       "4997            YPA           22/07/2017      14.7  ...        147.00   \n",
       "4998  hockingstuart           24/09/2016       2.5  ...        151.00   \n",
       "4999         Jellis            1/07/2017       5.3  ...         71.00   \n",
       "\n",
       "      YearBuilt  CouncilArea  Lattitude  Longtitude             Regionname  \\\n",
       "0        1900.0        Yarra  -37.80790   144.99340  Northern Metropolitan   \n",
       "1        1900.0        Yarra  -37.80930   144.99440  Northern Metropolitan   \n",
       "2        2014.0        Yarra  -37.80720   144.99410  Northern Metropolitan   \n",
       "3        1910.0        Yarra  -37.80240   144.99930  Northern Metropolitan   \n",
       "4        1890.0        Yarra  -37.80600   144.99540  Northern Metropolitan   \n",
       "...         ...          ...        ...         ...                    ...   \n",
       "4995     1950.0     Brimbank  -37.78750   144.84560   Western Metropolitan   \n",
       "4996     1950.0      Darebin  -37.70680   145.01930  Northern Metropolitan   \n",
       "4997     2003.0      Wyndham  -37.89556   144.64268   Western Metropolitan   \n",
       "4998     1998.0        Yarra  -37.83110   144.99140  Northern Metropolitan   \n",
       "4999     1965.0   Boroondara  -37.82824   145.03137  Southern Metropolitan   \n",
       "\n",
       "      Propertycount Hari_sold  Bulan_sold  Tahun_sold  \n",
       "0            4019.0       5.0         4.0      2016.0  \n",
       "1            4019.0       0.0         4.0      2017.0  \n",
       "2            4019.0       2.0         4.0      2016.0  \n",
       "3            4019.0       1.0         7.0      2016.0  \n",
       "4            4019.0       2.0         8.0      2016.0  \n",
       "...             ...       ...         ...         ...  \n",
       "4995         3755.0       NaN         NaN         NaN  \n",
       "4996        21650.0       NaN         NaN         NaN  \n",
       "4997        16166.0       NaN         NaN         NaN  \n",
       "4998         1123.0       NaN         NaN         NaN  \n",
       "4999        11308.0       NaN         NaN         NaN  \n",
       "\n",
       "[5000 rows x 25 columns]"
      ]
     },
     "execution_count": 22,
     "metadata": {},
     "output_type": "execute_result"
    }
   ],
   "source": [
    "rumah.reset_index()"
   ]
  },
  {
   "cell_type": "code",
   "execution_count": 23,
   "metadata": {},
   "outputs": [
    {
     "data": {
      "image/png": "[encoded data removed]",
      "text/plain": [
       "<Figure size 432x288 with 1 Axes>"
      ]
     },
     "metadata": {
      "needs_background": "light"
     },
     "output_type": "display_data"
    }
   ],
   "source": [
    "sns.distplot(rumah['Landsize'])\n",
    "plt.show()"
   ]
  },
  {
   "cell_type": "markdown",
   "metadata": {},
   "source": [
    "<blockquote>\n",
    "    terlihat ada keanehan dimana daerah perkotaan harusnya memiliki ukuran tanah yang sama perwilayahnya"
   ]
  },
  {
   "cell_type": "code",
   "execution_count": 24,
   "metadata": {},
   "outputs": [],
   "source": [
    "median_landsize = rumah.groupby('CouncilArea')['Landsize'].median()"
   ]
  },
  {
   "cell_type": "code",
   "execution_count": 25,
   "metadata": {},
   "outputs": [],
   "source": [
    "rumah['Landsize'] = rumah.apply(lambda x: median_landsize[x['CouncilArea']] if x['Landsize'] == 0 else x['Landsize'], axis=1)"
   ]
  },
  {
   "cell_type": "markdown",
   "metadata": {},
   "source": [
    "## EDA"
   ]
  },
  {
   "cell_type": "code",
   "execution_count": 26,
   "metadata": {},
   "outputs": [
    {
     "data": {
      "text/html": [
       "<div>\n",
       "<style scoped>\n",
       "    .dataframe tbody tr th:only-of-type {\n",
       "        vertical-align: middle;\n",
       "    }\n",
       "\n",
       "    .dataframe tbody tr th {\n",
       "        vertical-align: top;\n",
       "    }\n",
       "\n",
       "    .dataframe thead th {\n",
       "        text-align: right;\n",
       "    }\n",
       "</style>\n",
       "<table border=\"1\" class=\"dataframe\">\n",
       "  <thead>\n",
       "    <tr style=\"text-align: right;\">\n",
       "      <th></th>\n",
       "      <th>count</th>\n",
       "      <th>mean</th>\n",
       "      <th>std</th>\n",
       "      <th>min</th>\n",
       "      <th>25%</th>\n",
       "      <th>50%</th>\n",
       "      <th>75%</th>\n",
       "      <th>max</th>\n",
       "    </tr>\n",
       "  </thead>\n",
       "  <tbody>\n",
       "    <tr>\n",
       "      <th>Rooms</th>\n",
       "      <td>5000.0</td>\n",
       "      <td>2.933400e+00</td>\n",
       "      <td>0.978548</td>\n",
       "      <td>1.00000</td>\n",
       "      <td>2.000000</td>\n",
       "      <td>3.000000</td>\n",
       "      <td>4.000000e+00</td>\n",
       "      <td>8.000000e+00</td>\n",
       "    </tr>\n",
       "    <tr>\n",
       "      <th>Price</th>\n",
       "      <td>5000.0</td>\n",
       "      <td>1.082524e+06</td>\n",
       "      <td>680197.619691</td>\n",
       "      <td>131000.00000</td>\n",
       "      <td>627375.000000</td>\n",
       "      <td>883500.000000</td>\n",
       "      <td>1.350000e+06</td>\n",
       "      <td>8.000000e+06</td>\n",
       "    </tr>\n",
       "    <tr>\n",
       "      <th>Distance</th>\n",
       "      <td>5000.0</td>\n",
       "      <td>9.558740e+00</td>\n",
       "      <td>5.311878</td>\n",
       "      <td>0.00000</td>\n",
       "      <td>5.900000</td>\n",
       "      <td>8.900000</td>\n",
       "      <td>1.210000e+01</td>\n",
       "      <td>4.730000e+01</td>\n",
       "    </tr>\n",
       "    <tr>\n",
       "      <th>Postcode</th>\n",
       "      <td>5000.0</td>\n",
       "      <td>3.101762e+03</td>\n",
       "      <td>84.768740</td>\n",
       "      <td>3000.00000</td>\n",
       "      <td>3044.000000</td>\n",
       "      <td>3081.000000</td>\n",
       "      <td>3.147000e+03</td>\n",
       "      <td>3.977000e+03</td>\n",
       "    </tr>\n",
       "    <tr>\n",
       "      <th>Bedroom2</th>\n",
       "      <td>5000.0</td>\n",
       "      <td>2.900800e+00</td>\n",
       "      <td>0.977727</td>\n",
       "      <td>0.00000</td>\n",
       "      <td>2.000000</td>\n",
       "      <td>3.000000</td>\n",
       "      <td>3.000000e+00</td>\n",
       "      <td>9.000000e+00</td>\n",
       "    </tr>\n",
       "    <tr>\n",
       "      <th>Bathroom</th>\n",
       "      <td>5000.0</td>\n",
       "      <td>1.584000e+00</td>\n",
       "      <td>0.725706</td>\n",
       "      <td>1.00000</td>\n",
       "      <td>1.000000</td>\n",
       "      <td>1.000000</td>\n",
       "      <td>2.000000e+00</td>\n",
       "      <td>8.000000e+00</td>\n",
       "    </tr>\n",
       "    <tr>\n",
       "      <th>Car</th>\n",
       "      <td>5000.0</td>\n",
       "      <td>1.565600e+00</td>\n",
       "      <td>0.912504</td>\n",
       "      <td>0.00000</td>\n",
       "      <td>1.000000</td>\n",
       "      <td>1.000000</td>\n",
       "      <td>2.000000e+00</td>\n",
       "      <td>1.000000e+01</td>\n",
       "    </tr>\n",
       "    <tr>\n",
       "      <th>Landsize</th>\n",
       "      <td>5000.0</td>\n",
       "      <td>5.156806e+02</td>\n",
       "      <td>934.004421</td>\n",
       "      <td>1.00000</td>\n",
       "      <td>213.000000</td>\n",
       "      <td>400.500000</td>\n",
       "      <td>6.250000e+02</td>\n",
       "      <td>3.700000e+04</td>\n",
       "    </tr>\n",
       "    <tr>\n",
       "      <th>BuildingArea</th>\n",
       "      <td>5000.0</td>\n",
       "      <td>1.427351e+02</td>\n",
       "      <td>95.023823</td>\n",
       "      <td>0.00000</td>\n",
       "      <td>90.000000</td>\n",
       "      <td>124.000000</td>\n",
       "      <td>1.710000e+02</td>\n",
       "      <td>3.112000e+03</td>\n",
       "    </tr>\n",
       "    <tr>\n",
       "      <th>YearBuilt</th>\n",
       "      <td>5000.0</td>\n",
       "      <td>1.963824e+03</td>\n",
       "      <td>37.075952</td>\n",
       "      <td>1830.00000</td>\n",
       "      <td>1940.000000</td>\n",
       "      <td>1970.000000</td>\n",
       "      <td>2.000000e+03</td>\n",
       "      <td>2.018000e+03</td>\n",
       "    </tr>\n",
       "    <tr>\n",
       "      <th>Lattitude</th>\n",
       "      <td>5000.0</td>\n",
       "      <td>-3.780869e+01</td>\n",
       "      <td>0.074419</td>\n",
       "      <td>-38.16492</td>\n",
       "      <td>-37.856225</td>\n",
       "      <td>-37.801350</td>\n",
       "      <td>-3.775906e+01</td>\n",
       "      <td>-3.748381e+01</td>\n",
       "    </tr>\n",
       "    <tr>\n",
       "      <th>Longtitude</th>\n",
       "      <td>5000.0</td>\n",
       "      <td>1.449899e+02</td>\n",
       "      <td>0.094089</td>\n",
       "      <td>144.55106</td>\n",
       "      <td>144.928000</td>\n",
       "      <td>144.996055</td>\n",
       "      <td>1.450520e+02</td>\n",
       "      <td>1.455264e+02</td>\n",
       "    </tr>\n",
       "    <tr>\n",
       "      <th>Propertycount</th>\n",
       "      <td>5000.0</td>\n",
       "      <td>7.414800e+03</td>\n",
       "      <td>4187.949058</td>\n",
       "      <td>389.00000</td>\n",
       "      <td>4480.000000</td>\n",
       "      <td>6763.000000</td>\n",
       "      <td>1.016000e+04</td>\n",
       "      <td>2.165000e+04</td>\n",
       "    </tr>\n",
       "    <tr>\n",
       "      <th>Hari_sold</th>\n",
       "      <td>2735.0</td>\n",
       "      <td>3.806947e+00</td>\n",
       "      <td>2.083838</td>\n",
       "      <td>0.00000</td>\n",
       "      <td>2.000000</td>\n",
       "      <td>5.000000</td>\n",
       "      <td>5.000000e+00</td>\n",
       "      <td>6.000000e+00</td>\n",
       "    </tr>\n",
       "    <tr>\n",
       "      <th>Bulan_sold</th>\n",
       "      <td>2735.0</td>\n",
       "      <td>6.950640e+00</td>\n",
       "      <td>2.946135</td>\n",
       "      <td>2.00000</td>\n",
       "      <td>4.000000</td>\n",
       "      <td>7.000000</td>\n",
       "      <td>1.000000e+01</td>\n",
       "      <td>1.200000e+01</td>\n",
       "    </tr>\n",
       "    <tr>\n",
       "      <th>Tahun_sold</th>\n",
       "      <td>2735.0</td>\n",
       "      <td>2.016129e+03</td>\n",
       "      <td>0.335336</td>\n",
       "      <td>2016.00000</td>\n",
       "      <td>2016.000000</td>\n",
       "      <td>2016.000000</td>\n",
       "      <td>2.016000e+03</td>\n",
       "      <td>2.017000e+03</td>\n",
       "    </tr>\n",
       "  </tbody>\n",
       "</table>\n",
       "</div>"
      ],
      "text/plain": [
       "                count          mean            std           min  \\\n",
       "Rooms          5000.0  2.933400e+00       0.978548       1.00000   \n",
       "Price          5000.0  1.082524e+06  680197.619691  131000.00000   \n",
       "Distance       5000.0  9.558740e+00       5.311878       0.00000   \n",
       "Postcode       5000.0  3.101762e+03      84.768740    3000.00000   \n",
       "Bedroom2       5000.0  2.900800e+00       0.977727       0.00000   \n",
       "Bathroom       5000.0  1.584000e+00       0.725706       1.00000   \n",
       "Car            5000.0  1.565600e+00       0.912504       0.00000   \n",
       "Landsize       5000.0  5.156806e+02     934.004421       1.00000   \n",
       "BuildingArea   5000.0  1.427351e+02      95.023823       0.00000   \n",
       "YearBuilt      5000.0  1.963824e+03      37.075952    1830.00000   \n",
       "Lattitude      5000.0 -3.780869e+01       0.074419     -38.16492   \n",
       "Longtitude     5000.0  1.449899e+02       0.094089     144.55106   \n",
       "Propertycount  5000.0  7.414800e+03    4187.949058     389.00000   \n",
       "Hari_sold      2735.0  3.806947e+00       2.083838       0.00000   \n",
       "Bulan_sold     2735.0  6.950640e+00       2.946135       2.00000   \n",
       "Tahun_sold     2735.0  2.016129e+03       0.335336    2016.00000   \n",
       "\n",
       "                         25%            50%           75%           max  \n",
       "Rooms               2.000000       3.000000  4.000000e+00  8.000000e+00  \n",
       "Price          627375.000000  883500.000000  1.350000e+06  8.000000e+06  \n",
       "Distance            5.900000       8.900000  1.210000e+01  4.730000e+01  \n",
       "Postcode         3044.000000    3081.000000  3.147000e+03  3.977000e+03  \n",
       "Bedroom2            2.000000       3.000000  3.000000e+00  9.000000e+00  \n",
       "Bathroom            1.000000       1.000000  2.000000e+00  8.000000e+00  \n",
       "Car                 1.000000       1.000000  2.000000e+00  1.000000e+01  \n",
       "Landsize          213.000000     400.500000  6.250000e+02  3.700000e+04  \n",
       "BuildingArea       90.000000     124.000000  1.710000e+02  3.112000e+03  \n",
       "YearBuilt        1940.000000    1970.000000  2.000000e+03  2.018000e+03  \n",
       "Lattitude         -37.856225     -37.801350 -3.775906e+01 -3.748381e+01  \n",
       "Longtitude        144.928000     144.996055  1.450520e+02  1.455264e+02  \n",
       "Propertycount    4480.000000    6763.000000  1.016000e+04  2.165000e+04  \n",
       "Hari_sold           2.000000       5.000000  5.000000e+00  6.000000e+00  \n",
       "Bulan_sold          4.000000       7.000000  1.000000e+01  1.200000e+01  \n",
       "Tahun_sold       2016.000000    2016.000000  2.016000e+03  2.017000e+03  "
      ]
     },
     "execution_count": 26,
     "metadata": {},
     "output_type": "execute_result"
    }
   ],
   "source": [
    "rumah.describe().T"
   ]
  },
  {
   "cell_type": "markdown",
   "metadata": {},
   "source": [
    "### Target (Price)"
   ]
  },
  {
   "cell_type": "markdown",
   "metadata": {},
   "source": [
    "#### Distribusi & Outlier"
   ]
  },
  {
   "cell_type": "code",
   "execution_count": 27,
   "metadata": {},
   "outputs": [
    {
     "data": {
      "image/png": "[encoded data removed]",
      "text/plain": [
       "<Figure size 432x288 with 1 Axes>"
      ]
     },
     "metadata": {
      "needs_background": "light"
     },
     "output_type": "display_data"
    }
   ],
   "source": [
    "sns.boxenplot(rumah['Price'])\n",
    "plt.show()"
   ]
  },
  {
   "cell_type": "code",
   "execution_count": 28,
   "metadata": {},
   "outputs": [],
   "source": [
    "x = rumah['Price']\n",
    "iqr = x.quantile(.75) - x.quantile(.25)\n",
    "low = x.quantile(.25) - (1.5*iqr)\n",
    "high = x.quantile(.75) + (1.5*iqr)\n",
    "\n",
    "outlier_price = rumah[rumah['Price'] >= high]"
   ]
  },
  {
   "cell_type": "code",
   "execution_count": 29,
   "metadata": {},
   "outputs": [
    {
     "data": {
      "text/html": [
       "<div>\n",
       "<style scoped>\n",
       "    .dataframe tbody tr th:only-of-type {\n",
       "        vertical-align: middle;\n",
       "    }\n",
       "\n",
       "    .dataframe tbody tr th {\n",
       "        vertical-align: top;\n",
       "    }\n",
       "\n",
       "    .dataframe thead th {\n",
       "        text-align: right;\n",
       "    }\n",
       "</style>\n",
       "<table border=\"1\" class=\"dataframe\">\n",
       "  <thead>\n",
       "    <tr style=\"text-align: right;\">\n",
       "      <th></th>\n",
       "      <th>Suburb</th>\n",
       "      <th>Address</th>\n",
       "      <th>Rooms</th>\n",
       "      <th>Type</th>\n",
       "      <th>Price</th>\n",
       "      <th>Method</th>\n",
       "      <th>SellerG</th>\n",
       "      <th>Date</th>\n",
       "      <th>Distance</th>\n",
       "      <th>Postcode</th>\n",
       "      <th>...</th>\n",
       "      <th>BuildingArea</th>\n",
       "      <th>YearBuilt</th>\n",
       "      <th>CouncilArea</th>\n",
       "      <th>Lattitude</th>\n",
       "      <th>Longtitude</th>\n",
       "      <th>Regionname</th>\n",
       "      <th>Propertycount</th>\n",
       "      <th>Hari_sold</th>\n",
       "      <th>Bulan_sold</th>\n",
       "      <th>Tahun_sold</th>\n",
       "    </tr>\n",
       "  </thead>\n",
       "  <tbody>\n",
       "    <tr>\n",
       "      <th>80</th>\n",
       "      <td>Albert Park</td>\n",
       "      <td>112 Beaconsfield Pde</td>\n",
       "      <td>3</td>\n",
       "      <td>h</td>\n",
       "      <td>2850000.0</td>\n",
       "      <td>PI</td>\n",
       "      <td>Buxton</td>\n",
       "      <td>2017-04-03 00:00:00</td>\n",
       "      <td>3.3</td>\n",
       "      <td>3206.0</td>\n",
       "      <td>...</td>\n",
       "      <td>198.0</td>\n",
       "      <td>1890.0</td>\n",
       "      <td>Port Phillip</td>\n",
       "      <td>-37.8481</td>\n",
       "      <td>144.9499</td>\n",
       "      <td>Southern Metropolitan</td>\n",
       "      <td>3280.0</td>\n",
       "      <td>0.0</td>\n",
       "      <td>4.0</td>\n",
       "      <td>2017.0</td>\n",
       "    </tr>\n",
       "    <tr>\n",
       "      <th>92</th>\n",
       "      <td>Albert Park</td>\n",
       "      <td>2 Dundas Pl</td>\n",
       "      <td>3</td>\n",
       "      <td>h</td>\n",
       "      <td>2615000.0</td>\n",
       "      <td>S</td>\n",
       "      <td>Cayzer</td>\n",
       "      <td>2016-10-12 00:00:00</td>\n",
       "      <td>3.3</td>\n",
       "      <td>3206.0</td>\n",
       "      <td>...</td>\n",
       "      <td>181.0</td>\n",
       "      <td>1880.0</td>\n",
       "      <td>Port Phillip</td>\n",
       "      <td>-37.8415</td>\n",
       "      <td>144.9585</td>\n",
       "      <td>Southern Metropolitan</td>\n",
       "      <td>3280.0</td>\n",
       "      <td>2.0</td>\n",
       "      <td>10.0</td>\n",
       "      <td>2016.0</td>\n",
       "    </tr>\n",
       "    <tr>\n",
       "      <th>102</th>\n",
       "      <td>Albert Park</td>\n",
       "      <td>97 Page St</td>\n",
       "      <td>3</td>\n",
       "      <td>h</td>\n",
       "      <td>3010000.0</td>\n",
       "      <td>S</td>\n",
       "      <td>Greg</td>\n",
       "      <td>2017-03-18 00:00:00</td>\n",
       "      <td>3.3</td>\n",
       "      <td>3206.0</td>\n",
       "      <td>...</td>\n",
       "      <td>146.0</td>\n",
       "      <td>1890.0</td>\n",
       "      <td>Port Phillip</td>\n",
       "      <td>-37.8473</td>\n",
       "      <td>144.9551</td>\n",
       "      <td>Southern Metropolitan</td>\n",
       "      <td>3280.0</td>\n",
       "      <td>5.0</td>\n",
       "      <td>3.0</td>\n",
       "      <td>2017.0</td>\n",
       "    </tr>\n",
       "    <tr>\n",
       "      <th>103</th>\n",
       "      <td>Albert Park</td>\n",
       "      <td>55 Withers St</td>\n",
       "      <td>4</td>\n",
       "      <td>h</td>\n",
       "      <td>2800000.0</td>\n",
       "      <td>VB</td>\n",
       "      <td>Cayzer</td>\n",
       "      <td>2016-06-18 00:00:00</td>\n",
       "      <td>3.3</td>\n",
       "      <td>3206.0</td>\n",
       "      <td>...</td>\n",
       "      <td>254.0</td>\n",
       "      <td>1910.0</td>\n",
       "      <td>Port Phillip</td>\n",
       "      <td>-37.8467</td>\n",
       "      <td>144.9475</td>\n",
       "      <td>Southern Metropolitan</td>\n",
       "      <td>3280.0</td>\n",
       "      <td>5.0</td>\n",
       "      <td>6.0</td>\n",
       "      <td>2016.0</td>\n",
       "    </tr>\n",
       "    <tr>\n",
       "      <th>108</th>\n",
       "      <td>Albert Park</td>\n",
       "      <td>115 Page St</td>\n",
       "      <td>4</td>\n",
       "      <td>h</td>\n",
       "      <td>4735000.0</td>\n",
       "      <td>S</td>\n",
       "      <td>Marshall</td>\n",
       "      <td>2017-02-25 00:00:00</td>\n",
       "      <td>3.3</td>\n",
       "      <td>3206.0</td>\n",
       "      <td>...</td>\n",
       "      <td>207.0</td>\n",
       "      <td>1910.0</td>\n",
       "      <td>Port Phillip</td>\n",
       "      <td>-37.8477</td>\n",
       "      <td>144.9558</td>\n",
       "      <td>Southern Metropolitan</td>\n",
       "      <td>3280.0</td>\n",
       "      <td>5.0</td>\n",
       "      <td>2.0</td>\n",
       "      <td>2017.0</td>\n",
       "    </tr>\n",
       "  </tbody>\n",
       "</table>\n",
       "<p>5 rows × 24 columns</p>\n",
       "</div>"
      ],
      "text/plain": [
       "          Suburb               Address  Rooms Type      Price Method  \\\n",
       "80   Albert Park  112 Beaconsfield Pde      3    h  2850000.0     PI   \n",
       "92   Albert Park           2 Dundas Pl      3    h  2615000.0      S   \n",
       "102  Albert Park            97 Page St      3    h  3010000.0      S   \n",
       "103  Albert Park         55 Withers St      4    h  2800000.0     VB   \n",
       "108  Albert Park           115 Page St      4    h  4735000.0      S   \n",
       "\n",
       "      SellerG                 Date  Distance  Postcode  ...  BuildingArea  \\\n",
       "80     Buxton  2017-04-03 00:00:00       3.3    3206.0  ...         198.0   \n",
       "92     Cayzer  2016-10-12 00:00:00       3.3    3206.0  ...         181.0   \n",
       "102      Greg  2017-03-18 00:00:00       3.3    3206.0  ...         146.0   \n",
       "103    Cayzer  2016-06-18 00:00:00       3.3    3206.0  ...         254.0   \n",
       "108  Marshall  2017-02-25 00:00:00       3.3    3206.0  ...         207.0   \n",
       "\n",
       "     YearBuilt   CouncilArea  Lattitude  Longtitude             Regionname  \\\n",
       "80      1890.0  Port Phillip   -37.8481    144.9499  Southern Metropolitan   \n",
       "92      1880.0  Port Phillip   -37.8415    144.9585  Southern Metropolitan   \n",
       "102     1890.0  Port Phillip   -37.8473    144.9551  Southern Metropolitan   \n",
       "103     1910.0  Port Phillip   -37.8467    144.9475  Southern Metropolitan   \n",
       "108     1910.0  Port Phillip   -37.8477    144.9558  Southern Metropolitan   \n",
       "\n",
       "    Propertycount  Hari_sold  Bulan_sold Tahun_sold  \n",
       "80         3280.0        0.0         4.0     2017.0  \n",
       "92         3280.0        2.0        10.0     2016.0  \n",
       "102        3280.0        5.0         3.0     2017.0  \n",
       "103        3280.0        5.0         6.0     2016.0  \n",
       "108        3280.0        5.0         2.0     2017.0  \n",
       "\n",
       "[5 rows x 24 columns]"
      ]
     },
     "execution_count": 29,
     "metadata": {},
     "output_type": "execute_result"
    }
   ],
   "source": [
    "outlier_price.head()"
   ]
  },
  {
   "cell_type": "code",
   "execution_count": 30,
   "metadata": {},
   "outputs": [
    {
     "data": {
      "image/png": "[encoded data removed]",
      "text/plain": [
       "<Figure size 576x504 with 1 Axes>"
      ]
     },
     "metadata": {
      "needs_background": "light"
     },
     "output_type": "display_data"
    }
   ],
   "source": [
    "plt.figure(figsize = (8,7))\n",
    "sns.distplot(outlier_price['BuildingArea'])\n",
    "plt.show()"
   ]
  },
  {
   "cell_type": "code",
   "execution_count": 31,
   "metadata": {},
   "outputs": [
    {
     "data": {
      "image/png": "[encoded data removed]",
      "text/plain": [
       "<Figure size 576x504 with 1 Axes>"
      ]
     },
     "metadata": {
      "needs_background": "light"
     },
     "output_type": "display_data"
    }
   ],
   "source": [
    "plt.figure(figsize = (8,7))\n",
    "sns.distplot(outlier_price['Landsize'])\n",
    "plt.show()"
   ]
  },
  {
   "cell_type": "code",
   "execution_count": 32,
   "metadata": {},
   "outputs": [
    {
     "data": {
      "text/plain": [
       "768.4248927038626"
      ]
     },
     "execution_count": 32,
     "metadata": {},
     "output_type": "execute_result"
    }
   ],
   "source": [
    "outlier_price['Landsize'].mean()"
   ]
  },
  {
   "cell_type": "markdown",
   "metadata": {},
   "source": [
    "<blockquote> Sebagian rumah-rumah besar dengan landsize besar mengisi kategori outlier ini"
   ]
  },
  {
   "cell_type": "code",
   "execution_count": 33,
   "metadata": {},
   "outputs": [
    {
     "data": {
      "image/png": "[encoded data removed]",
      "text/plain": [
       "<Figure size 576x504 with 1 Axes>"
      ]
     },
     "metadata": {
      "needs_background": "light"
     },
     "output_type": "display_data"
    }
   ],
   "source": [
    "plt.figure(figsize = (8,7))\n",
    "sns.distplot(outlier_price['Distance'])\n",
    "plt.show()"
   ]
  },
  {
   "cell_type": "code",
   "execution_count": 34,
   "metadata": {},
   "outputs": [],
   "source": [
    "rumah['YearBuilt'] = rumah['YearBuilt'].astype(int)"
   ]
  },
  {
   "cell_type": "code",
   "execution_count": 35,
   "metadata": {},
   "outputs": [
    {
     "data": {
      "image/png": "[encoded data removed]",
      "text/plain": [
       "<Figure size 2880x720 with 1 Axes>"
      ]
     },
     "metadata": {
      "needs_background": "light"
     },
     "output_type": "display_data"
    }
   ],
   "source": [
    "plt.figure(figsize=(40,10))\n",
    "sns.barplot(x='YearBuilt', y='Price', data=outlier_price)\n",
    "plt.show()"
   ]
  },
  {
   "cell_type": "code",
   "execution_count": 36,
   "metadata": {},
   "outputs": [
    {
     "data": {
      "image/png": "[encoded data removed]",
      "text/plain": [
       "<Figure size 576x504 with 1 Axes>"
      ]
     },
     "metadata": {
      "needs_background": "light"
     },
     "output_type": "display_data"
    }
   ],
   "source": [
    "plt.figure(figsize = (8,7))\n",
    "sns.barplot(x='Type', y='Price', data=outlier_price)\n",
    "plt.show()"
   ]
  },
  {
   "cell_type": "markdown",
   "metadata": {},
   "source": [
    "<blockquote> Properti di sini yang paling mahal adalah House & townHouses"
   ]
  },
  {
   "cell_type": "markdown",
   "metadata": {},
   "source": [
    "### Categorical Variables dan berhubungan dengan target variable"
   ]
  },
  {
   "cell_type": "markdown",
   "metadata": {},
   "source": [
    "#### Rooms terhadap Price\n"
   ]
  },
  {
   "cell_type": "code",
   "execution_count": 37,
   "metadata": {},
   "outputs": [
    {
     "data": {
      "text/html": [
       "<div>\n",
       "<style scoped>\n",
       "    .dataframe tbody tr th:only-of-type {\n",
       "        vertical-align: middle;\n",
       "    }\n",
       "\n",
       "    .dataframe tbody tr th {\n",
       "        vertical-align: top;\n",
       "    }\n",
       "\n",
       "    .dataframe thead th {\n",
       "        text-align: right;\n",
       "    }\n",
       "</style>\n",
       "<table border=\"1\" class=\"dataframe\">\n",
       "  <thead>\n",
       "    <tr style=\"text-align: right;\">\n",
       "      <th></th>\n",
       "      <th>Price</th>\n",
       "      <th>Rooms</th>\n",
       "    </tr>\n",
       "    <tr>\n",
       "      <th>Rooms</th>\n",
       "      <th></th>\n",
       "      <th></th>\n",
       "    </tr>\n",
       "  </thead>\n",
       "  <tbody>\n",
       "    <tr>\n",
       "      <th>1</th>\n",
       "      <td>380000.0</td>\n",
       "      <td>1</td>\n",
       "    </tr>\n",
       "    <tr>\n",
       "      <th>2</th>\n",
       "      <td>650000.0</td>\n",
       "      <td>2</td>\n",
       "    </tr>\n",
       "    <tr>\n",
       "      <th>3</th>\n",
       "      <td>935000.0</td>\n",
       "      <td>3</td>\n",
       "    </tr>\n",
       "    <tr>\n",
       "      <th>4</th>\n",
       "      <td>1336500.0</td>\n",
       "      <td>4</td>\n",
       "    </tr>\n",
       "    <tr>\n",
       "      <th>5</th>\n",
       "      <td>1900000.0</td>\n",
       "      <td>5</td>\n",
       "    </tr>\n",
       "    <tr>\n",
       "      <th>6</th>\n",
       "      <td>1853000.0</td>\n",
       "      <td>6</td>\n",
       "    </tr>\n",
       "    <tr>\n",
       "      <th>7</th>\n",
       "      <td>1642000.0</td>\n",
       "      <td>7</td>\n",
       "    </tr>\n",
       "    <tr>\n",
       "      <th>8</th>\n",
       "      <td>881000.0</td>\n",
       "      <td>8</td>\n",
       "    </tr>\n",
       "  </tbody>\n",
       "</table>\n",
       "</div>"
      ],
      "text/plain": [
       "           Price  Rooms\n",
       "Rooms                  \n",
       "1       380000.0      1\n",
       "2       650000.0      2\n",
       "3       935000.0      3\n",
       "4      1336500.0      4\n",
       "5      1900000.0      5\n",
       "6      1853000.0      6\n",
       "7      1642000.0      7\n",
       "8       881000.0      8"
      ]
     },
     "execution_count": 37,
     "metadata": {},
     "output_type": "execute_result"
    }
   ],
   "source": [
    "rnp = rumah.groupby('Rooms')[['Price','Rooms']].agg('median')\n",
    "rnp"
   ]
  },
  {
   "cell_type": "code",
   "execution_count": 38,
   "metadata": {},
   "outputs": [
    {
     "data": {
      "image/png": "[encoded data removed]",
      "text/plain": [
       "<Figure size 576x504 with 1 Axes>"
      ]
     },
     "metadata": {
      "needs_background": "light"
     },
     "output_type": "display_data"
    }
   ],
   "source": [
    "plt.figure(figsize = (8,7))\n",
    "sns.barplot(x='Rooms', y='Price', data = rnp)\n",
    "plt.show()"
   ]
  },
  {
   "cell_type": "markdown",
   "metadata": {},
   "source": [
    "<blockquote> Semakin banyak kamar, harga semakin meningkat "
   ]
  },
  {
   "cell_type": "markdown",
   "metadata": {},
   "source": [
    "#### Bathroom terhadap Price"
   ]
  },
  {
   "cell_type": "code",
   "execution_count": 39,
   "metadata": {},
   "outputs": [
    {
     "data": {
      "text/html": [
       "<div>\n",
       "<style scoped>\n",
       "    .dataframe tbody tr th:only-of-type {\n",
       "        vertical-align: middle;\n",
       "    }\n",
       "\n",
       "    .dataframe tbody tr th {\n",
       "        vertical-align: top;\n",
       "    }\n",
       "\n",
       "    .dataframe thead th {\n",
       "        text-align: right;\n",
       "    }\n",
       "</style>\n",
       "<table border=\"1\" class=\"dataframe\">\n",
       "  <thead>\n",
       "    <tr style=\"text-align: right;\">\n",
       "      <th></th>\n",
       "      <th>Price</th>\n",
       "      <th>Bathroom</th>\n",
       "    </tr>\n",
       "    <tr>\n",
       "      <th>Bathroom</th>\n",
       "      <th></th>\n",
       "      <th></th>\n",
       "    </tr>\n",
       "  </thead>\n",
       "  <tbody>\n",
       "    <tr>\n",
       "      <th>1.0</th>\n",
       "      <td>711750.0</td>\n",
       "      <td>1.0</td>\n",
       "    </tr>\n",
       "    <tr>\n",
       "      <th>2.0</th>\n",
       "      <td>1090000.0</td>\n",
       "      <td>2.0</td>\n",
       "    </tr>\n",
       "    <tr>\n",
       "      <th>3.0</th>\n",
       "      <td>1687500.0</td>\n",
       "      <td>3.0</td>\n",
       "    </tr>\n",
       "    <tr>\n",
       "      <th>4.0</th>\n",
       "      <td>2752000.0</td>\n",
       "      <td>4.0</td>\n",
       "    </tr>\n",
       "    <tr>\n",
       "      <th>5.0</th>\n",
       "      <td>2250000.0</td>\n",
       "      <td>5.0</td>\n",
       "    </tr>\n",
       "    <tr>\n",
       "      <th>6.0</th>\n",
       "      <td>1260000.0</td>\n",
       "      <td>6.0</td>\n",
       "    </tr>\n",
       "    <tr>\n",
       "      <th>7.0</th>\n",
       "      <td>2950000.0</td>\n",
       "      <td>7.0</td>\n",
       "    </tr>\n",
       "    <tr>\n",
       "      <th>8.0</th>\n",
       "      <td>760000.0</td>\n",
       "      <td>8.0</td>\n",
       "    </tr>\n",
       "  </tbody>\n",
       "</table>\n",
       "</div>"
      ],
      "text/plain": [
       "              Price  Bathroom\n",
       "Bathroom                     \n",
       "1.0        711750.0       1.0\n",
       "2.0       1090000.0       2.0\n",
       "3.0       1687500.0       3.0\n",
       "4.0       2752000.0       4.0\n",
       "5.0       2250000.0       5.0\n",
       "6.0       1260000.0       6.0\n",
       "7.0       2950000.0       7.0\n",
       "8.0        760000.0       8.0"
      ]
     },
     "execution_count": 39,
     "metadata": {},
     "output_type": "execute_result"
    }
   ],
   "source": [
    "rnp = rumah.groupby('Bathroom')[['Price','Bathroom']].agg('median')\n",
    "rnp"
   ]
  },
  {
   "cell_type": "code",
   "execution_count": 40,
   "metadata": {},
   "outputs": [
    {
     "data": {
      "image/png": "[encoded data removed]",
      "text/plain": [
       "<Figure size 576x504 with 1 Axes>"
      ]
     },
     "metadata": {
      "needs_background": "light"
     },
     "output_type": "display_data"
    }
   ],
   "source": [
    "plt.figure(figsize = (8,7))\n",
    "sns.barplot(x='Bathroom', y='Price', data = rnp)\n",
    "plt.show()"
   ]
  },
  {
   "cell_type": "markdown",
   "metadata": {},
   "source": [
    "<blockquote> Jumlah kamar mandi juga tampaknya mempengaruhi harga. Namun saya saya liat 8 kamar mandi dalam rumah tidak laris"
   ]
  },
  {
   "cell_type": "markdown",
   "metadata": {},
   "source": [
    "#### Type terhadap Price"
   ]
  },
  {
   "cell_type": "code",
   "execution_count": 41,
   "metadata": {},
   "outputs": [
    {
     "data": {
      "text/html": [
       "<div>\n",
       "<style scoped>\n",
       "    .dataframe tbody tr th:only-of-type {\n",
       "        vertical-align: middle;\n",
       "    }\n",
       "\n",
       "    .dataframe tbody tr th {\n",
       "        vertical-align: top;\n",
       "    }\n",
       "\n",
       "    .dataframe thead th {\n",
       "        text-align: right;\n",
       "    }\n",
       "</style>\n",
       "<table border=\"1\" class=\"dataframe\">\n",
       "  <thead>\n",
       "    <tr style=\"text-align: right;\">\n",
       "      <th></th>\n",
       "      <th>Price</th>\n",
       "    </tr>\n",
       "    <tr>\n",
       "      <th>Type</th>\n",
       "      <th></th>\n",
       "    </tr>\n",
       "  </thead>\n",
       "  <tbody>\n",
       "    <tr>\n",
       "      <th>h</th>\n",
       "      <td>1126000.0</td>\n",
       "    </tr>\n",
       "    <tr>\n",
       "      <th>t</th>\n",
       "      <td>820000.0</td>\n",
       "    </tr>\n",
       "    <tr>\n",
       "      <th>u</th>\n",
       "      <td>540500.0</td>\n",
       "    </tr>\n",
       "  </tbody>\n",
       "</table>\n",
       "</div>"
      ],
      "text/plain": [
       "          Price\n",
       "Type           \n",
       "h     1126000.0\n",
       "t      820000.0\n",
       "u      540500.0"
      ]
     },
     "execution_count": 41,
     "metadata": {},
     "output_type": "execute_result"
    }
   ],
   "source": [
    "rnp = rumah.groupby('Type')[['Price','Type']].agg('median')\n",
    "rnp"
   ]
  },
  {
   "cell_type": "markdown",
   "metadata": {},
   "source": [
    "<blockquote> Rumah-rumah masih paling mahal di antara yang lainnya. sedangkan townhouse menjadi pilihan kedua, unit apartement menjadi yang paling murah di atara lainnya"
   ]
  },
  {
   "cell_type": "markdown",
   "metadata": {},
   "source": [
    "#### Dibulan berapa yang terbaik untuk menjual rumah?"
   ]
  },
  {
   "cell_type": "code",
   "execution_count": 42,
   "metadata": {},
   "outputs": [
    {
     "data": {
      "text/html": [
       "<div>\n",
       "<style scoped>\n",
       "    .dataframe tbody tr th:only-of-type {\n",
       "        vertical-align: middle;\n",
       "    }\n",
       "\n",
       "    .dataframe tbody tr th {\n",
       "        vertical-align: top;\n",
       "    }\n",
       "\n",
       "    .dataframe thead th {\n",
       "        text-align: right;\n",
       "    }\n",
       "</style>\n",
       "<table border=\"1\" class=\"dataframe\">\n",
       "  <thead>\n",
       "    <tr style=\"text-align: right;\">\n",
       "      <th></th>\n",
       "      <th>Price</th>\n",
       "      <th>Bulan_sold</th>\n",
       "    </tr>\n",
       "    <tr>\n",
       "      <th>Bulan_sold</th>\n",
       "      <th></th>\n",
       "      <th></th>\n",
       "    </tr>\n",
       "  </thead>\n",
       "  <tbody>\n",
       "    <tr>\n",
       "      <th>2.0</th>\n",
       "      <td>1025000.0</td>\n",
       "      <td>2.0</td>\n",
       "    </tr>\n",
       "    <tr>\n",
       "      <th>3.0</th>\n",
       "      <td>1015000.0</td>\n",
       "      <td>3.0</td>\n",
       "    </tr>\n",
       "    <tr>\n",
       "      <th>4.0</th>\n",
       "      <td>885000.0</td>\n",
       "      <td>4.0</td>\n",
       "    </tr>\n",
       "    <tr>\n",
       "      <th>5.0</th>\n",
       "      <td>938750.0</td>\n",
       "      <td>5.0</td>\n",
       "    </tr>\n",
       "    <tr>\n",
       "      <th>6.0</th>\n",
       "      <td>869000.0</td>\n",
       "      <td>6.0</td>\n",
       "    </tr>\n",
       "    <tr>\n",
       "      <th>7.0</th>\n",
       "      <td>887250.0</td>\n",
       "      <td>7.0</td>\n",
       "    </tr>\n",
       "    <tr>\n",
       "      <th>8.0</th>\n",
       "      <td>960000.0</td>\n",
       "      <td>8.0</td>\n",
       "    </tr>\n",
       "    <tr>\n",
       "      <th>9.0</th>\n",
       "      <td>985500.0</td>\n",
       "      <td>9.0</td>\n",
       "    </tr>\n",
       "    <tr>\n",
       "      <th>10.0</th>\n",
       "      <td>1050000.0</td>\n",
       "      <td>10.0</td>\n",
       "    </tr>\n",
       "    <tr>\n",
       "      <th>11.0</th>\n",
       "      <td>1020000.0</td>\n",
       "      <td>11.0</td>\n",
       "    </tr>\n",
       "    <tr>\n",
       "      <th>12.0</th>\n",
       "      <td>948000.0</td>\n",
       "      <td>12.0</td>\n",
       "    </tr>\n",
       "  </tbody>\n",
       "</table>\n",
       "</div>"
      ],
      "text/plain": [
       "                Price  Bulan_sold\n",
       "Bulan_sold                       \n",
       "2.0         1025000.0         2.0\n",
       "3.0         1015000.0         3.0\n",
       "4.0          885000.0         4.0\n",
       "5.0          938750.0         5.0\n",
       "6.0          869000.0         6.0\n",
       "7.0          887250.0         7.0\n",
       "8.0          960000.0         8.0\n",
       "9.0          985500.0         9.0\n",
       "10.0        1050000.0        10.0\n",
       "11.0        1020000.0        11.0\n",
       "12.0         948000.0        12.0"
      ]
     },
     "execution_count": 42,
     "metadata": {},
     "output_type": "execute_result"
    }
   ],
   "source": [
    "rnp = rumah.groupby('Bulan_sold')[['Price','Bulan_sold']].agg('median')\n",
    "rnp"
   ]
  },
  {
   "cell_type": "code",
   "execution_count": 43,
   "metadata": {},
   "outputs": [
    {
     "data": {
      "text/plain": [
       "<matplotlib.axes._subplots.AxesSubplot at 0x2747546e648>"
      ]
     },
     "execution_count": 43,
     "metadata": {},
     "output_type": "execute_result"
    },
    {
     "data": {
      "image/png": "[encoded data removed]",
      "text/plain": [
       "<Figure size 432x288 with 1 Axes>"
      ]
     },
     "metadata": {
      "needs_background": "light"
     },
     "output_type": "display_data"
    }
   ],
   "source": [
    "sns.lineplot(x='Bulan_sold', y='Price', data = rnp)"
   ]
  },
  {
   "cell_type": "markdown",
   "metadata": {},
   "source": [
    "<blockquote> bulan febuari dan bulan oktober adalah bulan terlaris penjualan rumah"
   ]
  },
  {
   "cell_type": "markdown",
   "metadata": {},
   "source": [
    "### Numerical Variables and their relation with target variable"
   ]
  },
  {
   "cell_type": "code",
   "execution_count": 44,
   "metadata": {},
   "outputs": [
    {
     "data": {
      "image/png": "[encoded data removed]",
      "text/plain": [
       "<Figure size 1296x1296 with 2 Axes>"
      ]
     },
     "metadata": {
      "needs_background": "light"
     },
     "output_type": "display_data"
    }
   ],
   "source": [
    "#get correlations of each features in dataset\n",
    "corrmat = rumah[rumah.describe().columns].corr()\n",
    "top_corr_features = corrmat.index\n",
    "\n",
    "plt.figure(figsize=(18,18))\n",
    "\n",
    "#plot heat map\n",
    "g=sns.heatmap(rumah[top_corr_features].corr(),annot=True)"
   ]
  },
  {
   "cell_type": "markdown",
   "metadata": {},
   "source": [
    "<blockquote> \n",
    "\n",
    " berapa features penting:\n",
    "\n",
    "    - Distance\n",
    "    - Rooms\n",
    "    - Bedroom2\n",
    "    - Bathroom\n",
    "    - BuildingArea\n",
    "    - Car\n",
    "    - YearBuilt\n",
    "    - Landsize\n",
    "    - Propertycount\n",
    "\n",
    "seperti yang sering dilihat di daftar iklan, rata-rata yang terhubung mulai dari berapa banyak ruangan yang dimiliki, di area mana rumah itu di jual,  berapa lama bangunan itu ada dan ada atau tidaknya parkir mobil.\n"
   ]
  },
  {
   "cell_type": "markdown",
   "metadata": {},
   "source": [
    "## Model Build"
   ]
  },
  {
   "cell_type": "markdown",
   "metadata": {},
   "source": [
    "saya menggunakan Robust Scaler untuk penskalaan data ini, karena data memiliki pencilan data, dan Scaler ini tidak didasarkan pada mean atau standar deviasi. Tetapi berdasarkan IQR atau median. Jadi lebih kuat (robust) dengan adanya data outlier."
   ]
  },
  {
   "cell_type": "code",
   "execution_count": 45,
   "metadata": {},
   "outputs": [
    {
     "data": {
      "text/html": [
       "<div>\n",
       "<style scoped>\n",
       "    .dataframe tbody tr th:only-of-type {\n",
       "        vertical-align: middle;\n",
       "    }\n",
       "\n",
       "    .dataframe tbody tr th {\n",
       "        vertical-align: top;\n",
       "    }\n",
       "\n",
       "    .dataframe thead th {\n",
       "        text-align: right;\n",
       "    }\n",
       "</style>\n",
       "<table border=\"1\" class=\"dataframe\">\n",
       "  <thead>\n",
       "    <tr style=\"text-align: right;\">\n",
       "      <th></th>\n",
       "      <th>Suburb</th>\n",
       "      <th>Address</th>\n",
       "      <th>Rooms</th>\n",
       "      <th>Type</th>\n",
       "      <th>Price</th>\n",
       "      <th>Method</th>\n",
       "      <th>SellerG</th>\n",
       "      <th>Date</th>\n",
       "      <th>Distance</th>\n",
       "      <th>Postcode</th>\n",
       "      <th>...</th>\n",
       "      <th>Price_Scl</th>\n",
       "      <th>Distance_Scl</th>\n",
       "      <th>Bedroom2_Scl</th>\n",
       "      <th>Rooms_Scl</th>\n",
       "      <th>Bathroom_Scl</th>\n",
       "      <th>YearBuilt_Scl</th>\n",
       "      <th>Car_Scl</th>\n",
       "      <th>Propertycount_Scl</th>\n",
       "      <th>Landsize_Scl</th>\n",
       "      <th>BuildingArea_Scl</th>\n",
       "    </tr>\n",
       "  </thead>\n",
       "  <tbody>\n",
       "    <tr>\n",
       "      <th>1</th>\n",
       "      <td>Abbotsford</td>\n",
       "      <td>25 Bloomburg St</td>\n",
       "      <td>2</td>\n",
       "      <td>h</td>\n",
       "      <td>1035000.0</td>\n",
       "      <td>S</td>\n",
       "      <td>Biggin</td>\n",
       "      <td>2016-04-02 00:00:00</td>\n",
       "      <td>2.5</td>\n",
       "      <td>3067.0</td>\n",
       "      <td>...</td>\n",
       "      <td>0.209652</td>\n",
       "      <td>-1.032258</td>\n",
       "      <td>-1.0</td>\n",
       "      <td>-0.5</td>\n",
       "      <td>0.0</td>\n",
       "      <td>-1.166667</td>\n",
       "      <td>-1.0</td>\n",
       "      <td>-0.483099</td>\n",
       "      <td>-0.593447</td>\n",
       "      <td>-0.555556</td>\n",
       "    </tr>\n",
       "    <tr>\n",
       "      <th>2</th>\n",
       "      <td>Abbotsford</td>\n",
       "      <td>5 Charles St</td>\n",
       "      <td>3</td>\n",
       "      <td>h</td>\n",
       "      <td>1465000.0</td>\n",
       "      <td>SP</td>\n",
       "      <td>Biggin</td>\n",
       "      <td>2017-04-03 00:00:00</td>\n",
       "      <td>2.5</td>\n",
       "      <td>3067.0</td>\n",
       "      <td>...</td>\n",
       "      <td>0.804705</td>\n",
       "      <td>-1.032258</td>\n",
       "      <td>0.0</td>\n",
       "      <td>0.0</td>\n",
       "      <td>1.0</td>\n",
       "      <td>-1.166667</td>\n",
       "      <td>-1.0</td>\n",
       "      <td>-0.483099</td>\n",
       "      <td>-0.646845</td>\n",
       "      <td>0.320988</td>\n",
       "    </tr>\n",
       "    <tr>\n",
       "      <th>4</th>\n",
       "      <td>Abbotsford</td>\n",
       "      <td>55a Park St</td>\n",
       "      <td>4</td>\n",
       "      <td>h</td>\n",
       "      <td>1600000.0</td>\n",
       "      <td>VB</td>\n",
       "      <td>Nelson</td>\n",
       "      <td>2016-04-06 00:00:00</td>\n",
       "      <td>2.5</td>\n",
       "      <td>3067.0</td>\n",
       "      <td>...</td>\n",
       "      <td>0.991524</td>\n",
       "      <td>-1.032258</td>\n",
       "      <td>0.0</td>\n",
       "      <td>0.5</td>\n",
       "      <td>0.0</td>\n",
       "      <td>0.733333</td>\n",
       "      <td>1.0</td>\n",
       "      <td>-0.483099</td>\n",
       "      <td>-0.680825</td>\n",
       "      <td>0.222222</td>\n",
       "    </tr>\n",
       "    <tr>\n",
       "      <th>6</th>\n",
       "      <td>Abbotsford</td>\n",
       "      <td>124 Yarra St</td>\n",
       "      <td>3</td>\n",
       "      <td>h</td>\n",
       "      <td>1876000.0</td>\n",
       "      <td>S</td>\n",
       "      <td>Nelson</td>\n",
       "      <td>2016-07-05 00:00:00</td>\n",
       "      <td>2.5</td>\n",
       "      <td>3067.0</td>\n",
       "      <td>...</td>\n",
       "      <td>1.373465</td>\n",
       "      <td>-1.032258</td>\n",
       "      <td>1.0</td>\n",
       "      <td>0.0</td>\n",
       "      <td>1.0</td>\n",
       "      <td>-1.000000</td>\n",
       "      <td>-1.0</td>\n",
       "      <td>-0.483099</td>\n",
       "      <td>-0.377427</td>\n",
       "      <td>1.061728</td>\n",
       "    </tr>\n",
       "    <tr>\n",
       "      <th>7</th>\n",
       "      <td>Abbotsford</td>\n",
       "      <td>98 Charles St</td>\n",
       "      <td>2</td>\n",
       "      <td>h</td>\n",
       "      <td>1636000.0</td>\n",
       "      <td>S</td>\n",
       "      <td>Nelson</td>\n",
       "      <td>2016-08-10 00:00:00</td>\n",
       "      <td>2.5</td>\n",
       "      <td>3067.0</td>\n",
       "      <td>...</td>\n",
       "      <td>1.041342</td>\n",
       "      <td>-1.032258</td>\n",
       "      <td>-1.0</td>\n",
       "      <td>-0.5</td>\n",
       "      <td>0.0</td>\n",
       "      <td>-1.333333</td>\n",
       "      <td>1.0</td>\n",
       "      <td>-0.483099</td>\n",
       "      <td>-0.350728</td>\n",
       "      <td>-0.209877</td>\n",
       "    </tr>\n",
       "  </tbody>\n",
       "</table>\n",
       "<p>5 rows × 34 columns</p>\n",
       "</div>"
      ],
      "text/plain": [
       "       Suburb          Address  Rooms Type      Price Method SellerG  \\\n",
       "1  Abbotsford  25 Bloomburg St      2    h  1035000.0      S  Biggin   \n",
       "2  Abbotsford     5 Charles St      3    h  1465000.0     SP  Biggin   \n",
       "4  Abbotsford      55a Park St      4    h  1600000.0     VB  Nelson   \n",
       "6  Abbotsford     124 Yarra St      3    h  1876000.0      S  Nelson   \n",
       "7  Abbotsford    98 Charles St      2    h  1636000.0      S  Nelson   \n",
       "\n",
       "                  Date  Distance  Postcode  ...  Price_Scl  Distance_Scl  \\\n",
       "1  2016-04-02 00:00:00       2.5    3067.0  ...   0.209652     -1.032258   \n",
       "2  2017-04-03 00:00:00       2.5    3067.0  ...   0.804705     -1.032258   \n",
       "4  2016-04-06 00:00:00       2.5    3067.0  ...   0.991524     -1.032258   \n",
       "6  2016-07-05 00:00:00       2.5    3067.0  ...   1.373465     -1.032258   \n",
       "7  2016-08-10 00:00:00       2.5    3067.0  ...   1.041342     -1.032258   \n",
       "\n",
       "   Bedroom2_Scl  Rooms_Scl  Bathroom_Scl  YearBuilt_Scl Car_Scl  \\\n",
       "1          -1.0       -0.5           0.0      -1.166667    -1.0   \n",
       "2           0.0        0.0           1.0      -1.166667    -1.0   \n",
       "4           0.0        0.5           0.0       0.733333     1.0   \n",
       "6           1.0        0.0           1.0      -1.000000    -1.0   \n",
       "7          -1.0       -0.5           0.0      -1.333333     1.0   \n",
       "\n",
       "   Propertycount_Scl  Landsize_Scl BuildingArea_Scl  \n",
       "1          -0.483099     -0.593447        -0.555556  \n",
       "2          -0.483099     -0.646845         0.320988  \n",
       "4          -0.483099     -0.680825         0.222222  \n",
       "6          -0.483099     -0.377427         1.061728  \n",
       "7          -0.483099     -0.350728        -0.209877  \n",
       "\n",
       "[5 rows x 34 columns]"
      ]
     },
     "execution_count": 45,
     "metadata": {},
     "output_type": "execute_result"
    }
   ],
   "source": [
    "rumah['Price_Scl'] = RobustScaler().fit_transform(rumah[['Price']])\n",
    "rumah['Distance_Scl'] = RobustScaler().fit_transform(rumah[['Distance']])\n",
    "rumah['Bedroom2_Scl'] = RobustScaler().fit_transform(rumah[['Bedroom2']])\n",
    "rumah['Rooms_Scl'] = RobustScaler().fit_transform(rumah[['Rooms']])\n",
    "rumah['Bathroom_Scl'] = RobustScaler().fit_transform(rumah[['Bathroom']])\n",
    "rumah['YearBuilt_Scl'] = RobustScaler().fit_transform(rumah[['YearBuilt']])\n",
    "rumah['Car_Scl'] = RobustScaler().fit_transform(rumah[['Car']])\n",
    "rumah['Propertycount_Scl'] = RobustScaler().fit_transform(rumah[['Propertycount']])\n",
    "rumah['Landsize_Scl'] = RobustScaler().fit_transform(rumah[['Landsize']])\n",
    "rumah['BuildingArea_Scl'] = RobustScaler().fit_transform(rumah[['BuildingArea']])\n",
    "\n",
    "rumah.head()"
   ]
  },
  {
   "cell_type": "markdown",
   "metadata": {},
   "source": [
    "ENCODE"
   ]
  },
  {
   "cell_type": "code",
   "execution_count": 46,
   "metadata": {},
   "outputs": [],
   "source": [
    "cat = rumah.loc[:,rumah.dtypes == np.object].drop(columns = ['Address', 'CouncilArea', 'Date'], axis=1)"
   ]
  },
  {
   "cell_type": "code",
   "execution_count": 47,
   "metadata": {},
   "outputs": [
    {
     "name": "stdout",
     "output_type": "stream",
     "text": [
      "<class 'pandas.core.frame.DataFrame'>\n",
      "Int64Index: 5000 entries, 1 to 8834\n",
      "Data columns (total 5 columns):\n",
      " #   Column      Non-Null Count  Dtype \n",
      "---  ------      --------------  ----- \n",
      " 0   Suburb      5000 non-null   object\n",
      " 1   Type        5000 non-null   object\n",
      " 2   Method      5000 non-null   object\n",
      " 3   SellerG     5000 non-null   object\n",
      " 4   Regionname  5000 non-null   object\n",
      "dtypes: object(5)\n",
      "memory usage: 234.4+ KB\n"
     ]
    }
   ],
   "source": [
    "cat.info()"
   ]
  },
  {
   "cell_type": "code",
   "execution_count": 48,
   "metadata": {},
   "outputs": [],
   "source": [
    "for i in cat:\n",
    "    cat[i] = LabelEncoder().fit_transform(cat[[i]])"
   ]
  },
  {
   "cell_type": "code",
   "execution_count": 49,
   "metadata": {},
   "outputs": [
    {
     "data": {
      "text/html": [
       "<div>\n",
       "<style scoped>\n",
       "    .dataframe tbody tr th:only-of-type {\n",
       "        vertical-align: middle;\n",
       "    }\n",
       "\n",
       "    .dataframe tbody tr th {\n",
       "        vertical-align: top;\n",
       "    }\n",
       "\n",
       "    .dataframe thead th {\n",
       "        text-align: right;\n",
       "    }\n",
       "</style>\n",
       "<table border=\"1\" class=\"dataframe\">\n",
       "  <thead>\n",
       "    <tr style=\"text-align: right;\">\n",
       "      <th></th>\n",
       "      <th>Suburb</th>\n",
       "      <th>Type</th>\n",
       "      <th>Method</th>\n",
       "      <th>SellerG</th>\n",
       "      <th>Regionname</th>\n",
       "    </tr>\n",
       "  </thead>\n",
       "  <tbody>\n",
       "    <tr>\n",
       "      <th>1</th>\n",
       "      <td>0</td>\n",
       "      <td>0</td>\n",
       "      <td>1</td>\n",
       "      <td>16</td>\n",
       "      <td>2</td>\n",
       "    </tr>\n",
       "    <tr>\n",
       "      <th>2</th>\n",
       "      <td>0</td>\n",
       "      <td>0</td>\n",
       "      <td>3</td>\n",
       "      <td>16</td>\n",
       "      <td>2</td>\n",
       "    </tr>\n",
       "    <tr>\n",
       "      <th>4</th>\n",
       "      <td>0</td>\n",
       "      <td>0</td>\n",
       "      <td>4</td>\n",
       "      <td>104</td>\n",
       "      <td>2</td>\n",
       "    </tr>\n",
       "    <tr>\n",
       "      <th>6</th>\n",
       "      <td>0</td>\n",
       "      <td>0</td>\n",
       "      <td>1</td>\n",
       "      <td>104</td>\n",
       "      <td>2</td>\n",
       "    </tr>\n",
       "    <tr>\n",
       "      <th>7</th>\n",
       "      <td>0</td>\n",
       "      <td>0</td>\n",
       "      <td>1</td>\n",
       "      <td>104</td>\n",
       "      <td>2</td>\n",
       "    </tr>\n",
       "    <tr>\n",
       "      <th>...</th>\n",
       "      <td>...</td>\n",
       "      <td>...</td>\n",
       "      <td>...</td>\n",
       "      <td>...</td>\n",
       "      <td>...</td>\n",
       "    </tr>\n",
       "    <tr>\n",
       "      <th>8416</th>\n",
       "      <td>234</td>\n",
       "      <td>0</td>\n",
       "      <td>1</td>\n",
       "      <td>163</td>\n",
       "      <td>6</td>\n",
       "    </tr>\n",
       "    <tr>\n",
       "      <th>8307</th>\n",
       "      <td>203</td>\n",
       "      <td>0</td>\n",
       "      <td>1</td>\n",
       "      <td>86</td>\n",
       "      <td>2</td>\n",
       "    </tr>\n",
       "    <tr>\n",
       "      <th>11861</th>\n",
       "      <td>257</td>\n",
       "      <td>0</td>\n",
       "      <td>3</td>\n",
       "      <td>175</td>\n",
       "      <td>6</td>\n",
       "    </tr>\n",
       "    <tr>\n",
       "      <th>7373</th>\n",
       "      <td>72</td>\n",
       "      <td>1</td>\n",
       "      <td>1</td>\n",
       "      <td>176</td>\n",
       "      <td>2</td>\n",
       "    </tr>\n",
       "    <tr>\n",
       "      <th>8834</th>\n",
       "      <td>126</td>\n",
       "      <td>2</td>\n",
       "      <td>0</td>\n",
       "      <td>74</td>\n",
       "      <td>5</td>\n",
       "    </tr>\n",
       "  </tbody>\n",
       "</table>\n",
       "<p>5000 rows × 5 columns</p>\n",
       "</div>"
      ],
      "text/plain": [
       "       Suburb  Type  Method  SellerG  Regionname\n",
       "1           0     0       1       16           2\n",
       "2           0     0       3       16           2\n",
       "4           0     0       4      104           2\n",
       "6           0     0       1      104           2\n",
       "7           0     0       1      104           2\n",
       "...       ...   ...     ...      ...         ...\n",
       "8416      234     0       1      163           6\n",
       "8307      203     0       1       86           2\n",
       "11861     257     0       3      175           6\n",
       "7373       72     1       1      176           2\n",
       "8834      126     2       0       74           5\n",
       "\n",
       "[5000 rows x 5 columns]"
      ]
     },
     "execution_count": 49,
     "metadata": {},
     "output_type": "execute_result"
    }
   ],
   "source": [
    "cat"
   ]
  },
  {
   "cell_type": "code",
   "execution_count": 50,
   "metadata": {},
   "outputs": [],
   "source": [
    "rumah = rumah.drop(columns = ['Address', 'CouncilArea', 'Date', 'Method', 'Regionname', 'SellerG', 'Suburb', 'Type'])"
   ]
  },
  {
   "cell_type": "code",
   "execution_count": 51,
   "metadata": {},
   "outputs": [],
   "source": [
    "rumah = pd.concat([cat,rumah], axis=1)"
   ]
  },
  {
   "cell_type": "code",
   "execution_count": 52,
   "metadata": {},
   "outputs": [
    {
     "data": {
      "text/plain": [
       "Suburb                  0\n",
       "Type                    0\n",
       "Method                  0\n",
       "SellerG                 0\n",
       "Regionname              0\n",
       "Rooms                   0\n",
       "Price                   0\n",
       "Distance                0\n",
       "Postcode                0\n",
       "Bedroom2                0\n",
       "Bathroom                0\n",
       "Car                     0\n",
       "Landsize                0\n",
       "BuildingArea            0\n",
       "YearBuilt               0\n",
       "Lattitude               0\n",
       "Longtitude              0\n",
       "Propertycount           0\n",
       "Hari_sold            2265\n",
       "Bulan_sold           2265\n",
       "Tahun_sold           2265\n",
       "Price_Scl               0\n",
       "Distance_Scl            0\n",
       "Bedroom2_Scl            0\n",
       "Rooms_Scl               0\n",
       "Bathroom_Scl            0\n",
       "YearBuilt_Scl           0\n",
       "Car_Scl                 0\n",
       "Propertycount_Scl       0\n",
       "Landsize_Scl            0\n",
       "BuildingArea_Scl        0\n",
       "dtype: int64"
      ]
     },
     "execution_count": 52,
     "metadata": {},
     "output_type": "execute_result"
    }
   ],
   "source": [
    "rumah.isna().sum()"
   ]
  },
  {
   "cell_type": "markdown",
   "metadata": {},
   "source": [
    "#### Splitting Data with 80% Train and 20% Test|"
   ]
  },
  {
   "cell_type": "code",
   "execution_count": 53,
   "metadata": {},
   "outputs": [],
   "source": [
    "X = rumah.drop(columns = ['Price', 'Bulan_sold', 'Hari_sold', 'Tahun_sold']).values\n",
    "y = rumah['Price'].values"
   ]
  },
  {
   "cell_type": "markdown",
   "metadata": {},
   "source": [
    "<blockquote> Saya memilih fitur berdasarkan korelasi data sebelumnya, dan itu ditunjukkan pada data pemisahan di atas."
   ]
  },
  {
   "cell_type": "code",
   "execution_count": 54,
   "metadata": {},
   "outputs": [],
   "source": [
    "X_train, X_test, y_train, y_test = train_test_split(X, y, test_size = .2, random_state=0)"
   ]
  },
  {
   "cell_type": "markdown",
   "metadata": {},
   "source": [
    "Menggunakan Regresi Linier Sederhana di bawah ini"
   ]
  },
  {
   "cell_type": "code",
   "execution_count": 55,
   "metadata": {},
   "outputs": [
    {
     "data": {
      "text/plain": [
       "LinearRegression()"
      ]
     },
     "execution_count": 55,
     "metadata": {},
     "output_type": "execute_result"
    }
   ],
   "source": [
    "regressor = LinearRegression()\n",
    "regressor.fit(X_train, y_train)"
   ]
  },
  {
   "cell_type": "code",
   "execution_count": 59,
   "metadata": {},
   "outputs": [
    {
     "name": "stdout",
     "output_type": "stream",
     "text": [
      "[ 1.68722660e-13  3.02406988e-11 -3.93048559e-10  8.61618554e-11\n",
      " -4.73779210e-11  5.45267591e-10  6.10354406e-11  1.90063520e-11\n",
      " -1.44845465e-10  3.74581824e-11  1.47088711e-10  1.94244620e-12\n",
      " -1.26729738e-11 -7.33437200e-11  2.18183834e-09  4.30463939e-09\n",
      " -1.42108547e-13  7.22625000e+05  8.02950328e-11 -7.72027314e-10\n",
      "  4.66466289e-10  3.74287438e-10 -1.02420994e-10  5.10197908e-11\n",
      "  4.28107098e-11  8.63993824e-11 -1.25743860e-12]\n",
      "883499.9999995372\n"
     ]
    }
   ],
   "source": [
    "print(regressor.coef_) #slope\n",
    "print(regressor.intercept_) #intercept"
   ]
  },
  {
   "cell_type": "code",
   "execution_count": 60,
   "metadata": {},
   "outputs": [
    {
     "data": {
      "text/html": [
       "<div>\n",
       "<style scoped>\n",
       "    .dataframe tbody tr th:only-of-type {\n",
       "        vertical-align: middle;\n",
       "    }\n",
       "\n",
       "    .dataframe tbody tr th {\n",
       "        vertical-align: top;\n",
       "    }\n",
       "\n",
       "    .dataframe thead th {\n",
       "        text-align: right;\n",
       "    }\n",
       "</style>\n",
       "<table border=\"1\" class=\"dataframe\">\n",
       "  <thead>\n",
       "    <tr style=\"text-align: right;\">\n",
       "      <th></th>\n",
       "      <th>Coefficient/Slope</th>\n",
       "    </tr>\n",
       "  </thead>\n",
       "  <tbody>\n",
       "    <tr>\n",
       "      <th>Suburb</th>\n",
       "      <td>1.687227e-13</td>\n",
       "    </tr>\n",
       "    <tr>\n",
       "      <th>Type</th>\n",
       "      <td>3.024070e-11</td>\n",
       "    </tr>\n",
       "    <tr>\n",
       "      <th>Method</th>\n",
       "      <td>-3.930486e-10</td>\n",
       "    </tr>\n",
       "    <tr>\n",
       "      <th>SellerG</th>\n",
       "      <td>8.616186e-11</td>\n",
       "    </tr>\n",
       "    <tr>\n",
       "      <th>Regionname</th>\n",
       "      <td>-4.737792e-11</td>\n",
       "    </tr>\n",
       "    <tr>\n",
       "      <th>Rooms</th>\n",
       "      <td>5.452676e-10</td>\n",
       "    </tr>\n",
       "    <tr>\n",
       "      <th>Distance</th>\n",
       "      <td>6.103544e-11</td>\n",
       "    </tr>\n",
       "    <tr>\n",
       "      <th>Postcode</th>\n",
       "      <td>1.900635e-11</td>\n",
       "    </tr>\n",
       "    <tr>\n",
       "      <th>Bedroom2</th>\n",
       "      <td>-1.448455e-10</td>\n",
       "    </tr>\n",
       "    <tr>\n",
       "      <th>Bathroom</th>\n",
       "      <td>3.745818e-11</td>\n",
       "    </tr>\n",
       "    <tr>\n",
       "      <th>Car</th>\n",
       "      <td>1.470887e-10</td>\n",
       "    </tr>\n",
       "    <tr>\n",
       "      <th>Landsize</th>\n",
       "      <td>1.942446e-12</td>\n",
       "    </tr>\n",
       "    <tr>\n",
       "      <th>BuildingArea</th>\n",
       "      <td>-1.267297e-11</td>\n",
       "    </tr>\n",
       "    <tr>\n",
       "      <th>YearBuilt</th>\n",
       "      <td>-7.334372e-11</td>\n",
       "    </tr>\n",
       "    <tr>\n",
       "      <th>Lattitude</th>\n",
       "      <td>2.181838e-09</td>\n",
       "    </tr>\n",
       "    <tr>\n",
       "      <th>Longtitude</th>\n",
       "      <td>4.304639e-09</td>\n",
       "    </tr>\n",
       "    <tr>\n",
       "      <th>Propertycount</th>\n",
       "      <td>-1.421085e-13</td>\n",
       "    </tr>\n",
       "    <tr>\n",
       "      <th>Price_Scl</th>\n",
       "      <td>7.226250e+05</td>\n",
       "    </tr>\n",
       "    <tr>\n",
       "      <th>Distance_Scl</th>\n",
       "      <td>8.029503e-11</td>\n",
       "    </tr>\n",
       "    <tr>\n",
       "      <th>Bedroom2_Scl</th>\n",
       "      <td>-7.720273e-10</td>\n",
       "    </tr>\n",
       "    <tr>\n",
       "      <th>Rooms_Scl</th>\n",
       "      <td>4.664663e-10</td>\n",
       "    </tr>\n",
       "    <tr>\n",
       "      <th>Bathroom_Scl</th>\n",
       "      <td>3.742874e-10</td>\n",
       "    </tr>\n",
       "    <tr>\n",
       "      <th>YearBuilt_Scl</th>\n",
       "      <td>-1.024210e-10</td>\n",
       "    </tr>\n",
       "    <tr>\n",
       "      <th>Car_Scl</th>\n",
       "      <td>5.101979e-11</td>\n",
       "    </tr>\n",
       "    <tr>\n",
       "      <th>Propertycount_Scl</th>\n",
       "      <td>4.281071e-11</td>\n",
       "    </tr>\n",
       "    <tr>\n",
       "      <th>Landsize_Scl</th>\n",
       "      <td>8.639938e-11</td>\n",
       "    </tr>\n",
       "    <tr>\n",
       "      <th>BuildingArea_Scl</th>\n",
       "      <td>-1.257439e-12</td>\n",
       "    </tr>\n",
       "  </tbody>\n",
       "</table>\n",
       "</div>"
      ],
      "text/plain": [
       "                   Coefficient/Slope\n",
       "Suburb                  1.687227e-13\n",
       "Type                    3.024070e-11\n",
       "Method                 -3.930486e-10\n",
       "SellerG                 8.616186e-11\n",
       "Regionname             -4.737792e-11\n",
       "Rooms                   5.452676e-10\n",
       "Distance                6.103544e-11\n",
       "Postcode                1.900635e-11\n",
       "Bedroom2               -1.448455e-10\n",
       "Bathroom                3.745818e-11\n",
       "Car                     1.470887e-10\n",
       "Landsize                1.942446e-12\n",
       "BuildingArea           -1.267297e-11\n",
       "YearBuilt              -7.334372e-11\n",
       "Lattitude               2.181838e-09\n",
       "Longtitude              4.304639e-09\n",
       "Propertycount          -1.421085e-13\n",
       "Price_Scl               7.226250e+05\n",
       "Distance_Scl            8.029503e-11\n",
       "Bedroom2_Scl           -7.720273e-10\n",
       "Rooms_Scl               4.664663e-10\n",
       "Bathroom_Scl            3.742874e-10\n",
       "YearBuilt_Scl          -1.024210e-10\n",
       "Car_Scl                 5.101979e-11\n",
       "Propertycount_Scl       4.281071e-11\n",
       "Landsize_Scl            8.639938e-11\n",
       "BuildingArea_Scl       -1.257439e-12"
      ]
     },
     "execution_count": 60,
     "metadata": {},
     "output_type": "execute_result"
    }
   ],
   "source": [
    "x_columns = rumah.drop(columns = ['Price', 'Bulan_sold', 'Hari_sold', 'Tahun_sold']).columns\n",
    "\n",
    "coeff_df = pd.DataFrame(regressor.coef_, x_columns, columns=['Coefficient/Slope'])  \n",
    "coeff_df"
   ]
  },
  {
   "cell_type": "code",
   "execution_count": 62,
   "metadata": {},
   "outputs": [
    {
     "data": {
      "text/html": [
       "<div>\n",
       "<style scoped>\n",
       "    .dataframe tbody tr th:only-of-type {\n",
       "        vertical-align: middle;\n",
       "    }\n",
       "\n",
       "    .dataframe tbody tr th {\n",
       "        vertical-align: top;\n",
       "    }\n",
       "\n",
       "    .dataframe thead th {\n",
       "        text-align: right;\n",
       "    }\n",
       "</style>\n",
       "<table border=\"1\" class=\"dataframe\">\n",
       "  <thead>\n",
       "    <tr style=\"text-align: right;\">\n",
       "      <th></th>\n",
       "      <th>Actual</th>\n",
       "      <th>Predicted</th>\n",
       "    </tr>\n",
       "  </thead>\n",
       "  <tbody>\n",
       "    <tr>\n",
       "      <th>0</th>\n",
       "      <td>1125000.0</td>\n",
       "      <td>1125000.0</td>\n",
       "    </tr>\n",
       "    <tr>\n",
       "      <th>1</th>\n",
       "      <td>490000.0</td>\n",
       "      <td>490000.0</td>\n",
       "    </tr>\n",
       "    <tr>\n",
       "      <th>2</th>\n",
       "      <td>880000.0</td>\n",
       "      <td>880000.0</td>\n",
       "    </tr>\n",
       "    <tr>\n",
       "      <th>3</th>\n",
       "      <td>850000.0</td>\n",
       "      <td>850000.0</td>\n",
       "    </tr>\n",
       "    <tr>\n",
       "      <th>4</th>\n",
       "      <td>2840000.0</td>\n",
       "      <td>2840000.0</td>\n",
       "    </tr>\n",
       "  </tbody>\n",
       "</table>\n",
       "</div>"
      ],
      "text/plain": [
       "      Actual  Predicted\n",
       "0  1125000.0  1125000.0\n",
       "1   490000.0   490000.0\n",
       "2   880000.0   880000.0\n",
       "3   850000.0   850000.0\n",
       "4  2840000.0  2840000.0"
      ]
     },
     "execution_count": 62,
     "metadata": {},
     "output_type": "execute_result"
    }
   ],
   "source": [
    "y_pred = regressor.predict(X_test)\n",
    "df = pd.DataFrame({'Actual' : y_test.flatten(), 'Predicted' : y_pred.flatten()})\n",
    "df.head()"
   ]
  },
  {
   "cell_type": "markdown",
   "metadata": {},
   "source": [
    "#### Visualize Y Actual & Y Predict"
   ]
  },
  {
   "cell_type": "code",
   "execution_count": 65,
   "metadata": {},
   "outputs": [
    {
     "data": {
      "image/png": "[encoded data removed]",
      "text/plain": [
       "<Figure size 864x360 with 1 Axes>"
      ]
     },
     "metadata": {
      "needs_background": "light"
     },
     "output_type": "display_data"
    }
   ],
   "source": [
    "df.head(25).plot(kind = 'bar', figsize = (12,5))\n",
    "plt.grid(which = 'major', linestyle = '-', linewidth = '0.5', color = 'green')\n",
    "plt.grid(which = 'minor', linestyle = ':', linewidth = '0.5', color = 'black')\n",
    "plt.show()"
   ]
  },
  {
   "cell_type": "markdown",
   "metadata": {},
   "source": [
    "#### Evaluation Model"
   ]
  },
  {
   "cell_type": "code",
   "execution_count": 68,
   "metadata": {},
   "outputs": [],
   "source": [
    "MAE = metrics.mean_absolute_error(y_test, y_pred)\n",
    "MSE = metrics.mean_squared_error(y_test, y_pred)\n",
    "RMSE = np.sqrt(metrics.mean_squared_error(y_test, y_pred))\n",
    "R2 = round(metrics.r2_score(y_test, y_pred), 2)\n",
    "mean_target = rumah['Price'].mean()"
   ]
  },
  {
   "cell_type": "code",
   "execution_count": 69,
   "metadata": {},
   "outputs": [
    {
     "name": "stdout",
     "output_type": "stream",
     "text": [
      "Mean Absolute Error : 4.722736775875091e-09\n",
      "Mean Squared Error : 3.6190817595364856e-17\n",
      "Root Mean Squared Error : 6.015880450554586e-09\n"
     ]
    }
   ],
   "source": [
    "print('Mean Absolute Error :', MAE)\n",
    "print('Mean Squared Error :', MSE)\n",
    "print('Root Mean Squared Error :', RMSE)"
   ]
  },
  {
   "cell_type": "code",
   "execution_count": 70,
   "metadata": {},
   "outputs": [
    {
     "name": "stdout",
     "output_type": "stream",
     "text": [
      "Percentage of Error by MAE 0.0 %\n",
      "Percentage of Error by RMSE 0.0 %\n",
      "R2 Score: 1.0\n"
     ]
    }
   ],
   "source": [
    "print('Percentage of Error by MAE', round(MAE / mean_target * 100, 2), '%')\n",
    "print('Percentage of Error by RMSE', round(RMSE / mean_target * 100, 2), '%')\n",
    "print('R2 Score:', R2)"
   ]
  },
  {
   "cell_type": "markdown",
   "metadata": {},
   "source": [
    "karna overfiting saya mendapatkan nilai 1\n",
    "model ini digunakan untuk memprediksi harga rumah, namun karna modelnya terdapatover fiting, agak susah untuk dikatakan bahwa model ini dapat digunakan untuk memprediksi secara tepat.\n",
    "jika model ini nantinya memprediksi secara tepat maka perusahaan realestate dapat menggunakan model ini untuk memprediksi berapa biaya yang tepat pada lokasi tertentu."
   ]
  },
  {
   "cell_type": "code",
   "execution_count": null,
   "metadata": {},
   "outputs": [],
   "source": []
  }
 ],
 "metadata": {
  "kernelspec": {
   "display_name": "Python 3",
   "language": "python",
   "name": "python3"
  },
  "language_info": {
   "codemirror_mode": {
    "name": "ipython",
    "version": 3
   },
   "file_extension": ".py",
   "mimetype": "text/x-python",
   "name": "python",
   "nbconvert_exporter": "python",
   "pygments_lexer": "ipython3",
   "version": "3.7.6"
  }
 },
 "nbformat": 4,
 "nbformat_minor": 4
}
